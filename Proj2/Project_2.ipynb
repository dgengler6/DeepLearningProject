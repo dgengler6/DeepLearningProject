{
 "cells": [
  {
   "cell_type": "markdown",
   "id": "greek-mechanism",
   "metadata": {},
   "source": [
    "## Usefuls sources of informations:\n",
    "\n",
    "* https://github.com/hbjornoy/deep-learning/blob/master/project2/helpers.py\n",
    "* https://github.com/Ertugrulmert/EPFL-Deep-Learning-Projects/blob/master/Project_2/framework.py\n",
    "* https://github.com/marieanselmet/DeepLearningEPFL_projects/tree/main/DL_framework_from_scratch\n",
    "\n",
    "La grande différence est que tout le monde définit module avec un argument, et non une liste * -> à voir si on doit changer pour faire comme les années précédentes ou s'il y a qqc de plus pratique"
   ]
  },
  {
   "cell_type": "markdown",
   "id": "handled-worry",
   "metadata": {},
   "source": [
    "## TODO\n",
    "\n",
    "* Pour les modules retournant une empty list sur param, enlever la fonction param (ça sert à rien de l'override)"
   ]
  },
  {
   "cell_type": "code",
   "execution_count": 1,
   "id": "minimal-sewing",
   "metadata": {},
   "outputs": [
    {
     "data": {
      "text/plain": [
       "<torch.autograd.grad_mode.set_grad_enabled at 0x10d7fafd0>"
      ]
     },
     "execution_count": 1,
     "metadata": {},
     "output_type": "execute_result"
    }
   ],
   "source": [
    "import torch\n",
    "import math\n",
    "import time\n",
    "import datetime\n",
    "import random\n",
    "\n",
    "from torch import Tensor\n",
    "torch.set_grad_enabled(False)"
   ]
  },
  {
   "cell_type": "code",
   "execution_count": 2,
   "id": "stable-office",
   "metadata": {},
   "outputs": [],
   "source": [
    "# The father of all Modules\n",
    "class Module(object):\n",
    "    def forward(self, *input):\n",
    "        raise NotImplementedError\n",
    "        \n",
    "    def backward(self, *gradwrtoutput):\n",
    "        raise NotImplementedError\n",
    "        \n",
    "    def param(self):\n",
    "        return []"
   ]
  },
  {
   "cell_type": "markdown",
   "id": "operational-packing",
   "metadata": {},
   "source": [
    "## Activation\n",
    "\n",
    "À part ReLU et Tanh c'est pas précisé dans l'énoncé - là c'est juste pour le flex"
   ]
  },
  {
   "cell_type": "code",
   "execution_count": 3,
   "id": "devoted-galaxy",
   "metadata": {},
   "outputs": [],
   "source": [
    "class ReLU(Module):\n",
    "    def __init__(self):\n",
    "        super().__init__()\n",
    "        \n",
    "    def forward(self, input):\n",
    "        self.t = input\n",
    "        return input.clamp(0)\n",
    "\n",
    "    def backward(self, gradwrtoutput):\n",
    "        input = self.t\n",
    "        sign = input.sign().clamp(0)\n",
    "        return sign * gradwrtoutput\n",
    "        \n",
    "    def param(self):\n",
    "        return []"
   ]
  },
  {
   "cell_type": "code",
   "execution_count": 4,
   "id": "juvenile-offer",
   "metadata": {},
   "outputs": [],
   "source": [
    "class Tanh(Module):\n",
    "    def __init__(self):\n",
    "        super().__init__()\n",
    "        \n",
    "    def forward(self, input):\n",
    "        self.t = input\n",
    "        \n",
    "        out = []\n",
    "        for x in input :\n",
    "            e = math.exp(-2 * x)\n",
    "            val = (1 - e) / (1 + e)\n",
    "            out.append(val)\n",
    "        return torch.FloatTensor(out)\n",
    "\n",
    "    def backward(self, gradwrtoutput):\n",
    "        z = self.t\n",
    "        e = torch.exp(-2 * z)\n",
    "        d_tanh = 4 * e / (1 + e)**2\n",
    "        return d_tanh * gradwrtoutput\n",
    "        \n",
    "    def param(self):\n",
    "        return []"
   ]
  },
  {
   "cell_type": "code",
   "execution_count": 5,
   "id": "rapid-invention",
   "metadata": {},
   "outputs": [],
   "source": [
    "class Sigmoid(Module):\n",
    "    def __init__(self):\n",
    "        super().__init__()\n",
    "        \n",
    "    def forward(self, input):\n",
    "        self.t = input\n",
    "        return input.mul(-1).exp().add(1).pow(-1)\n",
    "\n",
    "    def backward(self, gradwrtoutput):\n",
    "        sig = self.t.mul(-1).exp().add(1).pow(-1)\n",
    "        return sig.mul(-1).add(1).mul(sig)\n",
    "        \n",
    "    def param(self):\n",
    "        return []"
   ]
  },
  {
   "cell_type": "code",
   "execution_count": 6,
   "id": "e23a1e1a",
   "metadata": {},
   "outputs": [
    {
     "name": "stdout",
     "output_type": "stream",
     "text": [
      "tensor([ 0.,  0.,  1.,  3., 10.])\n",
      "tensor([-0.,  0.,  1.,  3., 10.])\n",
      "tensor([-1.0000,  0.0000,  0.7616,  0.9951,  1.0000])\n",
      "tensor([-8.2446e-08,  0.0000e+00,  4.1997e-01,  2.9598e-02,  8.2446e-08])\n",
      "tensor([4.5398e-05, 5.0000e-01, 7.3106e-01, 9.5257e-01, 9.9995e-01])\n",
      "tensor([4.5396e-05, 2.5000e-01, 1.9661e-01, 4.5177e-02, 4.5417e-05])\n"
     ]
    }
   ],
   "source": [
    "r = ReLU()\n",
    "th = Tanh()\n",
    "s = Sigmoid()\n",
    "\n",
    "t = torch.FloatTensor([-10, 0, 1, 3, 10])\n",
    "\n",
    "print(r.forward(t))\n",
    "print(r.backward(t))\n",
    "print(th.forward(t))\n",
    "print(th.backward(t))\n",
    "print(s.forward(t))\n",
    "print(s.backward(t))"
   ]
  },
  {
   "cell_type": "code",
   "execution_count": 7,
   "id": "passing-freedom",
   "metadata": {},
   "outputs": [],
   "source": [
    "class LeakyReLU(Module):\n",
    "    def __init__(self):\n",
    "        super().__init__()\n",
    "        \n",
    "    def forward(self, *input):\n",
    "        raise NotImplementedError\n",
    "\n",
    "    def backward(self, *gradwrtoutput):\n",
    "        raise NotImplementedError\n",
    "        \n",
    "    def param(self):\n",
    "        return []"
   ]
  },
  {
   "cell_type": "code",
   "execution_count": 8,
   "id": "julian-reach",
   "metadata": {},
   "outputs": [],
   "source": [
    "class ELU(Module):\n",
    "    def __init__(self):\n",
    "        super().__init__()\n",
    "        \n",
    "    def forward(self, *input):\n",
    "        raise NotImplementedError\n",
    "\n",
    "    def backward(self, *gradwrtoutput):\n",
    "        raise NotImplementedError\n",
    "        \n",
    "    def param(self):\n",
    "        return []"
   ]
  },
  {
   "cell_type": "code",
   "execution_count": 9,
   "id": "damaged-sympathy",
   "metadata": {},
   "outputs": [],
   "source": [
    "class CReLU(Module):\n",
    "    def __init__(self):\n",
    "        super().__init__()\n",
    "        \n",
    "    def forward(self, *input):\n",
    "        raise NotImplementedError\n",
    "\n",
    "    def backward(self, *gradwrtoutput):\n",
    "        raise NotImplementedError\n",
    "        \n",
    "    def param(self):\n",
    "        return []"
   ]
  },
  {
   "cell_type": "markdown",
   "id": "periodic-romantic",
   "metadata": {},
   "source": [
    "## Linear"
   ]
  },
  {
   "cell_type": "code",
   "execution_count": 10,
   "id": "public-replica",
   "metadata": {},
   "outputs": [],
   "source": [
    "class Linear(Module):\n",
    "    def __init__(self, input_size, output_size, mean=0, std=1):\n",
    "        super().__init__()\n",
    "        self.W = torch.empty(output_size, input_size).normal_(mean, std)\n",
    "        self.b = torch.empty(output_size).normal_(mean, std)\n",
    "        self.dW = torch.zeros(output_size, input_size)\n",
    "        self.db = torch.zeros(output_size)\n",
    "    def forward(self, input):\n",
    "        self.t = input\n",
    "        return self.W.mv(input).add(self.b)\n",
    "\n",
    "    def backward(self, gradwrtoutput):\n",
    "        self.dW.add_(gradwrtoutput.view(1, -1).t().mm(self.t.view(1, -1)))\n",
    "        self.db.add_(gradwrtoutput)\n",
    "        #print(gradwrtoutput.shape, self.W.shape)\n",
    "        return self.W.t().mv(gradwrtoutput)\n",
    "        \n",
    "        \n",
    "    def param(self):\n",
    "        return [(self.W, self.dW), (self.b, self.db)]"
   ]
  },
  {
   "cell_type": "code",
   "execution_count": 11,
   "id": "a16320dc",
   "metadata": {},
   "outputs": [
    {
     "data": {
      "text/plain": [
       "tensor([ 1.2851, -0.1923,  2.4016,  4.1519,  2.0200, -1.9445,  1.5073,  7.4325,\n",
       "         3.1786, -7.7750])"
      ]
     },
     "execution_count": 11,
     "metadata": {},
     "output_type": "execute_result"
    }
   ],
   "source": [
    "l = Linear(10, 10)\n",
    "t = torch.empty(10).fill_(1)\n",
    "l.forward(t)\n",
    "l.backward(t)"
   ]
  },
  {
   "cell_type": "code",
   "execution_count": 12,
   "id": "49fa1de3",
   "metadata": {},
   "outputs": [],
   "source": [
    "class Dropout(Module):\n",
    "    def __init__(self, p = 0.5):\n",
    "        super().__init__()\n",
    "        self.p = p\n",
    "        \n",
    "    def forward(self, input):\n",
    "        for i in range(input.shape[0]):\n",
    "            if random.random() < self.p : \n",
    "                input[i] = 0 \n",
    "        return input\n",
    "    \n",
    "    def backward(self, gradwrtoutput):\n",
    "        return gradwrtoutput\n",
    "        \n",
    "        \n",
    "    def param(self):\n",
    "        return []"
   ]
  },
  {
   "cell_type": "code",
   "execution_count": 13,
   "id": "fcf391b5",
   "metadata": {},
   "outputs": [
    {
     "data": {
      "text/plain": [
       "tensor([0., 0., 1., 1., 1., 1., 0., 0., 1., 0.])"
      ]
     },
     "execution_count": 13,
     "metadata": {},
     "output_type": "execute_result"
    }
   ],
   "source": [
    "l = Dropout(0.5)\n",
    "t = torch.empty(10).fill_(1)\n",
    "l.forward(t)"
   ]
  },
  {
   "cell_type": "markdown",
   "id": "rural-account",
   "metadata": {},
   "source": [
    "## Sequential\n",
    "\n",
    "Lui en input il prend une liste de modules et son fwd c'est de feed le fwd de chaque layer dans l'autre"
   ]
  },
  {
   "cell_type": "code",
   "execution_count": 14,
   "id": "dirty-contest",
   "metadata": {},
   "outputs": [],
   "source": [
    "class Sequential(Module):\n",
    "    def __init__(self, module_list):\n",
    "        super().__init__()\n",
    "        self.modules = module_list\n",
    "        \n",
    "    def forward(self, input):\n",
    "        x = input\n",
    "        for module in self.modules :\n",
    "            x = module.forward(x)\n",
    "        return x \n",
    "\n",
    "    def backward(self, gradwrtoutput):\n",
    "        x = gradwrtoutput\n",
    "        for module in reversed(self.modules) :\n",
    "            x = module.backward(x)\n",
    "        return x\n",
    "        \n",
    "    def param(self):\n",
    "        params = []\n",
    "        for module in self.modules:\n",
    "            #print(module.param())\n",
    "            for par in module.param():\n",
    "                params.append(par)\n",
    "        return params"
   ]
  },
  {
   "cell_type": "code",
   "execution_count": 53,
   "id": "8b904c19",
   "metadata": {},
   "outputs": [
    {
     "data": {
      "text/plain": [
       "6"
      ]
     },
     "execution_count": 53,
     "metadata": {},
     "output_type": "execute_result"
    }
   ],
   "source": [
    "s = Sequential([Linear(1,2), Linear(2,2), Linear(2,1)])\n",
    "len(s.param())"
   ]
  },
  {
   "cell_type": "markdown",
   "id": "outstanding-representation",
   "metadata": {},
   "source": [
    "## Loss\n",
    "\n",
    "Seule lossMSE est demandé"
   ]
  },
  {
   "cell_type": "code",
   "execution_count": 16,
   "id": "ready-lesson",
   "metadata": {},
   "outputs": [],
   "source": [
    "class LossMSE(Module):\n",
    "    def __init__(self):\n",
    "        super().__init__()\n",
    "        \n",
    "    def forward(self, pred, target):\n",
    "        self.pred = pred\n",
    "        self.target = target\n",
    "        return (pred - target.float()).pow(2).mean()\n",
    "    \n",
    "    # J'ai pas mis les arguments dans backward car je pars du principe que la MSE est la dernière fonction utilisée\n",
    "    def backward(self):\n",
    "        return 2 * (self.pred - self.target)\n",
    "    \n",
    "    def param(self):\n",
    "        return []"
   ]
  },
  {
   "cell_type": "code",
   "execution_count": 17,
   "id": "cutting-harmony",
   "metadata": {},
   "outputs": [],
   "source": [
    "class LossMAE(Module):\n",
    "    def __init__(self):\n",
    "        super().__init__()\n",
    "        \n",
    "    def forward(self, pred, target):\n",
    "        self.pred = pred\n",
    "        self.target = target\n",
    "        return (pred - target.float()).abs().mean()\n",
    "\n",
    "    def backward(self):\n",
    "        error = self.pred - self.target\n",
    "        return error.sign()\n",
    "        \n",
    "    def param(self):\n",
    "        return []"
   ]
  },
  {
   "cell_type": "code",
   "execution_count": 18,
   "id": "industrial-triple",
   "metadata": {},
   "outputs": [],
   "source": [
    "# Binary cross entropy loss\n",
    "# Note: We need to use sigmoid function before using BCE otherwise it makes no sense\n",
    "class LossBCE(Module):\n",
    "    def __init__(self):\n",
    "        super().__init__()\n",
    "        \n",
    "    def forward(self, pred, target):\n",
    "        self.pred = pred\n",
    "        self.target = target\n",
    "        #print(target * pred.log())\n",
    "        return ((target * pred.log()) + ((1 - target) * (1 - pred).log())).mean()\n",
    "\n",
    "    def backward(self):\n",
    "        return ((-target/pred) + ((1 - target)/(1 - pred))).mean()\n",
    "        \n",
    "    def param(self):\n",
    "        return []"
   ]
  },
  {
   "cell_type": "code",
   "execution_count": 19,
   "id": "stretch-breath",
   "metadata": {
    "scrolled": true
   },
   "outputs": [
    {
     "name": "stdout",
     "output_type": "stream",
     "text": [
      "tensor(1.6667)\n",
      "tensor([-2.,  0.,  4.])\n"
     ]
    }
   ],
   "source": [
    "# Test\n",
    "\n",
    "target = torch.FloatTensor([1, 1, 1])\n",
    "pred = torch.FloatTensor([0, 1, 3])\n",
    "lossMSE = LossMSE()\n",
    "print(lossMSE.forward(pred, target))\n",
    "print(lossMSE.backward())\n",
    "# Test\n",
    "\n",
    "target = torch.FloatTensor([1, 1, 1])\n",
    "pred = torch.FloatTensor([0, 1, 3])\n",
    "lossMAE = LossMAE()\n",
    "print(lossMAE.forward(pred, target))\n",
    "print(lossMAE.backward())\n",
    "# Test\n",
    "\n",
    "target = torch.FloatTensor([0, 0, 1, 1])\n",
    "pred = torch.FloatTensor([0.3, 0.1, 0.6, 0.1])\n",
    "lossBCE = LossBCE()\n",
    "print(lossBCE.forward(pred, target))\n",
    "print(lossBCE.backward())"
   ]
  },
  {
   "cell_type": "markdown",
   "id": "caring-beast",
   "metadata": {},
   "source": [
    "## Optimizer\n",
    "\n",
    "Pas demandé mais fancy"
   ]
  },
  {
   "cell_type": "code",
   "execution_count": 70,
   "id": "bacterial-parallel",
   "metadata": {},
   "outputs": [],
   "source": [
    "class SGD():\n",
    "    def __init__(self, params, lr, seq = True):\n",
    "        self.params = params\n",
    "        self.lr = lr\n",
    "        self.seq = seq\n",
    "        print(len(self.params))\n",
    "    def step(self):\n",
    "        if self.seq : \n",
    "            for tup in self.params:\n",
    "                param, grad = tup\n",
    "                if (param is not None) and (grad is not None):\n",
    "                    param.add_(grad, alpha=self.lr)\n",
    "        else : \n",
    "            for module in self.params:\n",
    "                for tup in module:\n",
    "                    param, grad = tup\n",
    "                    if (param is not None) and (grad is not None):\n",
    "                        param.add_(grad, alpha=self.lr)\n",
    "    \n",
    "    def zero_grad(self):\n",
    "        if self.seq :\n",
    "            for tup in self.params:\n",
    "                param, grad = tup\n",
    "                if (param is not None) and (grad is not None):\n",
    "                    grad.zero_()\n",
    "        else : \n",
    "            for module in self.params:\n",
    "                for tup in module:\n",
    "                    param, grad = tup\n",
    "                    if (param is not None) and (grad is not None):\n",
    "                        grad.zero_()\n",
    "                    \n",
    "    def show(self):\n",
    "        # To remove, for debugging\n",
    "        for i in self.params:\n",
    "            print(i)"
   ]
  },
  {
   "cell_type": "code",
   "execution_count": 57,
   "id": "democratic-scholarship",
   "metadata": {
    "scrolled": true
   },
   "outputs": [],
   "source": [
    "# Mazel Tov si on y arrive\n",
    "class Adam():\n",
    "    def __init__(self, params, lr, beta_1 = 0.9, beta_2 = 0.999, epsilon = 1e-8):\n",
    "        self.params = params\n",
    "        self.lr = lr\n",
    "        self.beta_1 = beta_1\n",
    "        self.beta_2 = beta_2\n",
    "        self.epsilon = epsilon\n",
    "        \n",
    "        # Adam inner values \n",
    "        self.t = 0\n",
    "        self.adam_values = torch.zeros_like(params)\n",
    "    \n",
    "    def step(self):\n",
    "        self.t += 1 \n",
    "        for idx_module, module in enumerate(self.params):\n",
    "            for idx_tup, tup in enumerate(module):\n",
    "                param, grad = tup\n",
    "                if (param is not None) and (grad is not None):\n",
    "                    #Update Vd and Sd, for each tuple we keep vd and sd \n",
    "                    vd, sd = self.adam_values[idx_module, idx_tup]\n",
    "                    \n",
    "                    vd.mul_(self.beta_1).add_(grad.mul(1 - self.beta_1))\n",
    "                    sd.mul_(self.beta_2).add_(grad.pow(2).mul(1 - self.beta_2))\n",
    "                    \n",
    "                    # Compute corrected Values\n",
    "                    vd_corr = vd.mul(torch.tensor([[self.beta_1]]).pow(self.t).mul(-1).add(1).pow(-1)) \n",
    "                    sd_corr = sd.mul(torch.tensor([[self.beta_2]]).pow(self.t).mul(-1).add(1).pow(-1)) \n",
    "                    \n",
    "                    # Update the parameter \n",
    "                    param.add_(sd_corr.sqrt().add(self.epsilon).pow(-1).mul(vd_corr)[0][0], alpha=self.lr)\n",
    "        \n",
    "    def zero_grad(self):\n",
    "        for module in self.params:\n",
    "            for tup in module:\n",
    "                param, grad = tup\n",
    "                if (param is not None) and (grad is not None):\n",
    "                    grad.zero_()\n",
    "                    \n",
    "    def show(self):\n",
    "        # To remove, for debugging\n",
    "        print(self.t)\n",
    "        print(\"PARAMS : \")\n",
    "        for i in self.params:\n",
    "            print(i)\n",
    "        print((\"ADAM [Vd, Sd] : \"))\n",
    "        for i in self.adam_values:\n",
    "            print(i)"
   ]
  },
  {
   "cell_type": "code",
   "execution_count": 58,
   "id": "7f2287d6",
   "metadata": {},
   "outputs": [
    {
     "name": "stdout",
     "output_type": "stream",
     "text": [
      "0\n",
      "PARAMS : \n",
      "tensor([[ 10.,   5.],\n",
      "        [ 10., -20.]])\n",
      "tensor([[  0.,  10.],\n",
      "        [  0., -10.]])\n",
      "ADAM [Vd, Sd] : \n",
      "tensor([[0., 0.],\n",
      "        [0., 0.]])\n",
      "tensor([[0., 0.],\n",
      "        [0., 0.]])\n",
      "1\n",
      "PARAMS : \n",
      "tensor([[10.1000,  0.0000],\n",
      "        [ 9.9000,  0.0000]])\n",
      "tensor([[ 0.1000,  0.0000],\n",
      "        [-0.1000,  0.0000]])\n",
      "ADAM [Vd, Sd] : \n",
      "tensor([[ 0.5000,  0.0250],\n",
      "        [-2.0000,  0.4000]])\n",
      "tensor([[ 1.0000,  0.1000],\n",
      "        [-1.0000,  0.1000]])\n"
     ]
    }
   ],
   "source": [
    "params = torch.FloatTensor([[(10, 5), (10, -20)], [(0, 10), (0, -10)]])\n",
    "adam = Adam(params , 0.1)\n",
    "adam.show()\n",
    "adam.step()\n",
    "adam.zero_grad()\n",
    "adam.show()\n"
   ]
  },
  {
   "cell_type": "code",
   "execution_count": 59,
   "id": "proved-hostel",
   "metadata": {},
   "outputs": [
    {
     "name": "stdout",
     "output_type": "stream",
     "text": [
      "2\n",
      "tensor([[ 11.,   3.],\n",
      "        [ 10., -20.]])\n",
      "tensor([[  0.,   9.],\n",
      "        [  0., -10.]])\n",
      "tensor([[11.,  0.],\n",
      "        [10.,  0.]])\n",
      "tensor([[0., 0.],\n",
      "        [0., 0.]])\n"
     ]
    }
   ],
   "source": [
    "params = torch.FloatTensor([[(10, 5), (10, -20)], [(0, 10), (0, -10)]])\n",
    "sgd = SGD(params , 0.1)\n",
    "sgd.step()\n",
    "sgd.show()\n",
    "sgd.zero_grad()\n",
    "sgd.show()"
   ]
  },
  {
   "cell_type": "markdown",
   "id": "settled-evening",
   "metadata": {},
   "source": [
    "## Data generation"
   ]
  },
  {
   "cell_type": "code",
   "execution_count": 60,
   "id": "experienced-graphic",
   "metadata": {},
   "outputs": [],
   "source": [
    "def generate_disc_dataset(nb, seed=0):\n",
    "    torch.manual_seed(seed)\n",
    "    input = torch.empty(nb, 2).uniform_(0, 1)\n",
    "    \n",
    "    distance = torch.norm((input - torch.Tensor([[0.5, 0.5]])), 2, 1, True)\n",
    "    target = distance.mul(math.sqrt(2*math.pi)).sub(1).sign().sub(1).div(-2).long()  \n",
    "    return input, target"
   ]
  },
  {
   "cell_type": "code",
   "execution_count": 61,
   "id": "greek-netscape",
   "metadata": {},
   "outputs": [],
   "source": [
    "# Pas sûr de l'interêt du one hot encoder vu l'énoncé mais je peux me tromper \n",
    "def one_hot_encoder(target):\n",
    "    return torch.empty(target.size(0), 2).zero_().scatter_(1, target.view(-1, 1), 1)"
   ]
  },
  {
   "cell_type": "code",
   "execution_count": 62,
   "id": "advised-secret",
   "metadata": {},
   "outputs": [],
   "source": [
    "def split_dataset(input, target, train_perc):\n",
    "    train_part = math.floor(target.size()[0] * train_perc)\n",
    "    test_part = target.size()[0] - train_part\n",
    "    \n",
    "    train_input = input.narrow(0, 0, train_part)\n",
    "    test_input = input.narrow(0, train_part, test_part)\n",
    "    \n",
    "    train_target = target.narrow(0, 0, train_part)\n",
    "    test_target = target.narrow(0, train_part, test_part)\n",
    "    \n",
    "    return train_input, train_target, test_input, test_target"
   ]
  },
  {
   "cell_type": "code",
   "execution_count": 63,
   "id": "defined-section",
   "metadata": {},
   "outputs": [],
   "source": [
    "def normalize_data(train, test):\n",
    "    mean, std = train.mean(), train.std()\n",
    "    train = (train - mean) / std\n",
    "    test = (test - mean) / std\n",
    "    return train, test"
   ]
  },
  {
   "cell_type": "code",
   "execution_count": 64,
   "id": "correct-vegetable",
   "metadata": {
    "scrolled": false
   },
   "outputs": [
    {
     "data": {
      "image/png": "[encoded data removed]",
      "text/plain": [
       "<Figure size 432x432 with 1 Axes>"
      ]
     },
     "metadata": {
      "needs_background": "light"
     },
     "output_type": "display_data"
    }
   ],
   "source": [
    "import matplotlib.pyplot as plt \n",
    "\n",
    "input, target = generate_disc_dataset(1000)\n",
    "\n",
    "def plot_from_input(input, target):\n",
    "    zeros = input[(target == 0).nonzero()[:,0]]\n",
    "    ones = input[target.nonzero()[:,0]]\n",
    "    plt.figure(figsize= (6,6))\n",
    "    plt.scatter(zeros[:,0], zeros[:,1], label='zeros')\n",
    "    plt.scatter(ones[:,0], ones[:,1], label= 'ones')\n",
    "    plt.legend()\n",
    "    plt.savefig('generated_data.png')\n",
    "    plt.show()\n",
    "\n",
    "plot_from_input(input, target)"
   ]
  },
  {
   "cell_type": "code",
   "execution_count": 65,
   "id": "static-convergence",
   "metadata": {},
   "outputs": [
    {
     "data": {
      "text/plain": [
       "tensor([[0., 1.],\n",
       "        [1., 0.],\n",
       "        [0., 1.],\n",
       "        ...,\n",
       "        [1., 0.],\n",
       "        [0., 1.],\n",
       "        [1., 0.]])"
      ]
     },
     "execution_count": 65,
     "metadata": {},
     "output_type": "execute_result"
    }
   ],
   "source": [
    "one_hot_encoder(target)"
   ]
  },
  {
   "cell_type": "markdown",
   "id": "approved-alfred",
   "metadata": {},
   "source": [
    "## Train / Test"
   ]
  },
  {
   "cell_type": "code",
   "execution_count": null,
   "id": "introductory-pharmaceutical",
   "metadata": {},
   "outputs": [],
   "source": [
    "\n",
    "\n",
    "def train(model, train_input, train_target, learning_rate=0.001, nb_epochs=25):\n",
    "    \n",
    "    criterion = LossMSE()\n",
    "    optimizer = SGD(model.param(), learning_rate)\n",
    "    \n",
    "    \n",
    "    for epoch in range(nb_epochs):\n",
    "        \n",
    "        acc_loss = 0\n",
    "\n",
    "        for idx, input in enumerate(train_input):\n",
    "            output = model.forward(input)\n",
    "            target = train_target[idx]\n",
    "            \n",
    "            loss = criterion.forward(output, target)\n",
    "            acc_loss = acc_loss + loss.item()\n",
    "            \n",
    "            grad_loss = criterion.backward()\n",
    "            model.backward(grad_loss)\n",
    "            optimizer.step()\n",
    "            optimizer.zero_grad()\n",
    "            \n",
    "        \n",
    "        print(f\"epoch {epoch}, Loss {acc_loss}\")\n",
    "    return model\n",
    "    \n",
    "def test(model, test_input, test_label):\n",
    "    nb_correct = 0\n",
    "    nb_total = test_input.shape[0]\n",
    "    x_0 = []\n",
    "    y_0 = []\n",
    "    x_1 = []\n",
    "    y_1 = []\n",
    "    \n",
    "    for idx, input in enumerate(test_input):\n",
    "        prediction = model.forward(input)\n",
    "        target = test_label[idx]\n",
    "        #print(prediction.argmax(), target)\n",
    "        #print(input)\n",
    "        print(prediction.argmax())\n",
    "        if prediction.argmax() == 0 :\n",
    "            print(0)\n",
    "            x_0.append(input[0])\n",
    "            y_0.append(input[1])\n",
    "        else :\n",
    "            print(1)\n",
    "            x_1.append(input[0])\n",
    "            y_1.append(input[1])\n",
    "            \n",
    "        nb_correct += prediction.argmax() == target\n",
    "    \n",
    "    plt.scatter(x_0, y_0, label='zeros')\n",
    "    plt.scatter(x_1, y_1, label= 'ones')\n",
    "    plt.legend()\n",
    "    plt.show()\n",
    "    print(nb_correct, nb_total)"
   ]
  },
  {
   "cell_type": "markdown",
   "id": "effective-confidence",
   "metadata": {},
   "source": [
    "## Data creation and code \n",
    "\n",
    "Note: j'ai pas compris si on doit utiliser 1000 datasets pour le train + 1000 dataset pour le test, pour le moment j'ai fait 1000 pour les 2 et je split ensuite, à voir comment on veut faire \n",
    "\n",
    "Note: Si on veut faire un truc fancy et visualiser notre data, il faudrait faire l'opération \"inverse\" du normalize data sur le dataset \n",
    "\n",
    "TODO: lr hypertuning w/ validation ? "
   ]
  },
  {
   "cell_type": "code",
   "execution_count": 73,
   "id": "activated-yukon",
   "metadata": {},
   "outputs": [
    {
     "data": {
      "image/png": "[encoded data removed]",
      "text/plain": [
       "<Figure size 432x432 with 1 Axes>"
      ]
     },
     "metadata": {
      "needs_background": "light"
     },
     "output_type": "display_data"
    },
    {
     "name": "stdout",
     "output_type": "stream",
     "text": [
      "8\n",
      "epoch 0, Loss nan\n",
      "epoch 1, Loss nan\n",
      "epoch 2, Loss nan\n",
      "epoch 3, Loss nan\n",
      "epoch 4, Loss nan\n"
     ]
    },
    {
     "ename": "KeyboardInterrupt",
     "evalue": "",
     "output_type": "error",
     "traceback": [
      "\u001b[0;31m------------------------------------------------------------------------\u001b[0m",
      "\u001b[0;31mKeyboardInterrupt\u001b[0m                      Traceback (most recent call last)",
      "\u001b[0;32m<ipython-input-73-b52a751ca222>\u001b[0m in \u001b[0;36m<module>\u001b[0;34m\u001b[0m\n\u001b[1;32m      7\u001b[0m \u001b[0mone_hot_targets\u001b[0m \u001b[0;34m=\u001b[0m \u001b[0mone_hot_encoder\u001b[0m\u001b[0;34m(\u001b[0m\u001b[0mtrain_target\u001b[0m\u001b[0;34m)\u001b[0m\u001b[0;34m\u001b[0m\u001b[0;34m\u001b[0m\u001b[0m\n\u001b[1;32m      8\u001b[0m \u001b[0;34m\u001b[0m\u001b[0m\n\u001b[0;32m----> 9\u001b[0;31m \u001b[0mmodel\u001b[0m \u001b[0;34m=\u001b[0m \u001b[0mtrain\u001b[0m\u001b[0;34m(\u001b[0m\u001b[0mmodel\u001b[0m\u001b[0;34m,\u001b[0m \u001b[0mtrain_input\u001b[0m\u001b[0;34m,\u001b[0m \u001b[0mone_hot_targets\u001b[0m\u001b[0;34m)\u001b[0m\u001b[0;34m\u001b[0m\u001b[0;34m\u001b[0m\u001b[0m\n\u001b[0m\u001b[1;32m     10\u001b[0m \u001b[0mtest\u001b[0m\u001b[0;34m(\u001b[0m\u001b[0mmodel\u001b[0m\u001b[0;34m,\u001b[0m \u001b[0mtest_input\u001b[0m\u001b[0;34m,\u001b[0m \u001b[0mtest_target\u001b[0m\u001b[0;34m)\u001b[0m\u001b[0;34m\u001b[0m\u001b[0;34m\u001b[0m\u001b[0m\n",
      "\u001b[0;32m<ipython-input-66-043ae64f2f46>\u001b[0m in \u001b[0;36mtrain\u001b[0;34m(model, train_input, train_target, learning_rate, nb_epochs)\u001b[0m\n\u001b[1;32m     17\u001b[0m \u001b[0;34m\u001b[0m\u001b[0m\n\u001b[1;32m     18\u001b[0m             \u001b[0mgrad_loss\u001b[0m \u001b[0;34m=\u001b[0m \u001b[0mcriterion\u001b[0m\u001b[0;34m.\u001b[0m\u001b[0mbackward\u001b[0m\u001b[0;34m(\u001b[0m\u001b[0;34m)\u001b[0m\u001b[0;34m\u001b[0m\u001b[0;34m\u001b[0m\u001b[0m\n\u001b[0;32m---> 19\u001b[0;31m             \u001b[0mmodel\u001b[0m\u001b[0;34m.\u001b[0m\u001b[0mbackward\u001b[0m\u001b[0;34m(\u001b[0m\u001b[0mgrad_loss\u001b[0m\u001b[0;34m)\u001b[0m\u001b[0;34m\u001b[0m\u001b[0;34m\u001b[0m\u001b[0m\n\u001b[0m\u001b[1;32m     20\u001b[0m             \u001b[0moptimizer\u001b[0m\u001b[0;34m.\u001b[0m\u001b[0mstep\u001b[0m\u001b[0;34m(\u001b[0m\u001b[0;34m)\u001b[0m\u001b[0;34m\u001b[0m\u001b[0;34m\u001b[0m\u001b[0m\n\u001b[1;32m     21\u001b[0m             \u001b[0moptimizer\u001b[0m\u001b[0;34m.\u001b[0m\u001b[0mzero_grad\u001b[0m\u001b[0;34m(\u001b[0m\u001b[0;34m)\u001b[0m\u001b[0;34m\u001b[0m\u001b[0;34m\u001b[0m\u001b[0m\n",
      "\u001b[0;32m<ipython-input-14-832a97a30db1>\u001b[0m in \u001b[0;36mbackward\u001b[0;34m(self, gradwrtoutput)\u001b[0m\n\u001b[1;32m     13\u001b[0m         \u001b[0mx\u001b[0m \u001b[0;34m=\u001b[0m \u001b[0mgradwrtoutput\u001b[0m\u001b[0;34m\u001b[0m\u001b[0;34m\u001b[0m\u001b[0m\n\u001b[1;32m     14\u001b[0m         \u001b[0;32mfor\u001b[0m \u001b[0mmodule\u001b[0m \u001b[0;32min\u001b[0m \u001b[0mreversed\u001b[0m\u001b[0;34m(\u001b[0m\u001b[0mself\u001b[0m\u001b[0;34m.\u001b[0m\u001b[0mmodules\u001b[0m\u001b[0;34m)\u001b[0m \u001b[0;34m:\u001b[0m\u001b[0;34m\u001b[0m\u001b[0;34m\u001b[0m\u001b[0m\n\u001b[0;32m---> 15\u001b[0;31m             \u001b[0mx\u001b[0m \u001b[0;34m=\u001b[0m \u001b[0mmodule\u001b[0m\u001b[0;34m.\u001b[0m\u001b[0mbackward\u001b[0m\u001b[0;34m(\u001b[0m\u001b[0mx\u001b[0m\u001b[0;34m)\u001b[0m\u001b[0;34m\u001b[0m\u001b[0;34m\u001b[0m\u001b[0m\n\u001b[0m\u001b[1;32m     16\u001b[0m         \u001b[0;32mreturn\u001b[0m \u001b[0mx\u001b[0m\u001b[0;34m\u001b[0m\u001b[0;34m\u001b[0m\u001b[0m\n\u001b[1;32m     17\u001b[0m \u001b[0;34m\u001b[0m\u001b[0m\n",
      "\u001b[0;32m<ipython-input-10-909ec82e66f1>\u001b[0m in \u001b[0;36mbackward\u001b[0;34m(self, gradwrtoutput)\u001b[0m\n\u001b[1;32m     11\u001b[0m \u001b[0;34m\u001b[0m\u001b[0m\n\u001b[1;32m     12\u001b[0m     \u001b[0;32mdef\u001b[0m \u001b[0mbackward\u001b[0m\u001b[0;34m(\u001b[0m\u001b[0mself\u001b[0m\u001b[0;34m,\u001b[0m \u001b[0mgradwrtoutput\u001b[0m\u001b[0;34m)\u001b[0m\u001b[0;34m:\u001b[0m\u001b[0;34m\u001b[0m\u001b[0;34m\u001b[0m\u001b[0m\n\u001b[0;32m---> 13\u001b[0;31m         \u001b[0mself\u001b[0m\u001b[0;34m.\u001b[0m\u001b[0mdW\u001b[0m\u001b[0;34m.\u001b[0m\u001b[0madd_\u001b[0m\u001b[0;34m(\u001b[0m\u001b[0mgradwrtoutput\u001b[0m\u001b[0;34m.\u001b[0m\u001b[0mview\u001b[0m\u001b[0;34m(\u001b[0m\u001b[0;36m1\u001b[0m\u001b[0;34m,\u001b[0m \u001b[0;34m-\u001b[0m\u001b[0;36m1\u001b[0m\u001b[0;34m)\u001b[0m\u001b[0;34m.\u001b[0m\u001b[0mt\u001b[0m\u001b[0;34m(\u001b[0m\u001b[0;34m)\u001b[0m\u001b[0;34m.\u001b[0m\u001b[0mmm\u001b[0m\u001b[0;34m(\u001b[0m\u001b[0mself\u001b[0m\u001b[0;34m.\u001b[0m\u001b[0mt\u001b[0m\u001b[0;34m.\u001b[0m\u001b[0mview\u001b[0m\u001b[0;34m(\u001b[0m\u001b[0;36m1\u001b[0m\u001b[0;34m,\u001b[0m \u001b[0;34m-\u001b[0m\u001b[0;36m1\u001b[0m\u001b[0;34m)\u001b[0m\u001b[0;34m)\u001b[0m\u001b[0;34m)\u001b[0m\u001b[0;34m\u001b[0m\u001b[0;34m\u001b[0m\u001b[0m\n\u001b[0m\u001b[1;32m     14\u001b[0m         \u001b[0mself\u001b[0m\u001b[0;34m.\u001b[0m\u001b[0mdb\u001b[0m\u001b[0;34m.\u001b[0m\u001b[0madd_\u001b[0m\u001b[0;34m(\u001b[0m\u001b[0mgradwrtoutput\u001b[0m\u001b[0;34m)\u001b[0m\u001b[0;34m\u001b[0m\u001b[0;34m\u001b[0m\u001b[0m\n\u001b[1;32m     15\u001b[0m         \u001b[0;31m#print(gradwrtoutput.shape, self.W.shape)\u001b[0m\u001b[0;34m\u001b[0m\u001b[0;34m\u001b[0m\u001b[0;34m\u001b[0m\u001b[0m\n",
      "\u001b[0;31mKeyboardInterrupt\u001b[0m: "
     ]
    }
   ],
   "source": [
    "input, target = generate_disc_dataset(1000)\n",
    "train_input, train_target, test_input, test_target = split_dataset(input, target, 0.8)\n",
    "train_input, test_input = normalize_data(train_input, test_input)\n",
    "plot_from_input(train_input, train_target)\n",
    "# Pas sûr si on doit faire une activation fonction à la fin\n",
    "model = Sequential([Linear(2, 100), ReLU(), Linear(100, 100), ReLU(), Linear(100, 100), ReLU(), Linear(100, 2)])\n",
    "one_hot_targets = one_hot_encoder(train_target)\n",
    "\n",
    "model = train(model, train_input, one_hot_targets)\n",
    "test(model, test_input, test_target)"
   ]
  },
  {
   "cell_type": "code",
   "execution_count": null,
   "id": "forward-canadian",
   "metadata": {},
   "outputs": [],
   "source": [
    "test(model, train_input, train_target)"
   ]
  },
  {
   "cell_type": "code",
   "execution_count": null,
   "id": "9f26e597",
   "metadata": {},
   "outputs": [],
   "source": [
    "test(model, test_input, test_target)"
   ]
  },
  {
   "cell_type": "code",
   "execution_count": null,
   "id": "6da1ebda",
   "metadata": {},
   "outputs": [],
   "source": []
  }
 ],
 "metadata": {
  "kernelspec": {
   "display_name": "Python 3",
   "language": "python",
   "name": "python3"
  },
  "language_info": {
   "codemirror_mode": {
    "name": "ipython",
    "version": 3
   },
   "file_extension": ".py",
   "mimetype": "text/x-python",
   "name": "python",
   "nbconvert_exporter": "python",
   "pygments_lexer": "ipython3",
   "version": "3.7.10"
  }
 },
 "nbformat": 4,
 "nbformat_minor": 5
}
