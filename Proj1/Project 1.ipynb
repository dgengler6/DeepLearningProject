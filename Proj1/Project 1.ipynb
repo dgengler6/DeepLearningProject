{
 "cells": [
  {
   "cell_type": "markdown",
   "id": "dfe89fd1",
   "metadata": {},
   "source": [
    "## Deep Learning Project 1 \n",
    "\n",
    "Comparing digits"
   ]
  },
  {
   "cell_type": "code",
   "execution_count": 1,
   "id": "ecf0dd0a",
   "metadata": {},
   "outputs": [],
   "source": [
    "import torch\n",
    "import math\n",
    "import dlc_practical_prologue as prologue\n",
    "from torch import optim\n",
    "from torch import Tensor\n",
    "from torch import nn\n",
    "from torch.nn import functional as F"
   ]
  },
  {
   "cell_type": "code",
   "execution_count": 2,
   "id": "f6cbc5eb",
   "metadata": {},
   "outputs": [],
   "source": [
    "# Generate the train and test sets.\n",
    "N = 1000\n",
    "train_input, train_target, train_classes, test_input, test_target, test_classes = prologue.generate_pair_sets(N)"
   ]
  },
  {
   "cell_type": "code",
   "execution_count": 177,
   "id": "62a0894d",
   "metadata": {},
   "outputs": [],
   "source": [
    "# Model Definition \n",
    "\n",
    "class Net(nn.Module):\n",
    "    def __init__(self, nb_hidden):\n",
    "        super().__init__()\n",
    "        self.conv1 = nn.Conv2d(1, 32, kernel_size=5)\n",
    "        self.conv2 = nn.Conv2d(32, 32, kernel_size=5)\n",
    "        self.conv2 = nn.Conv2d(32, 64, kernel_size=4)\n",
    "        self.fc1 = nn.Linear(256, nb_hidden)\n",
    "        self.fc2 = nn.Linear(nb_hidden, 10)\n",
    "\n",
    "    def forward(self, x):\n",
    "        x = F.relu(F.max_pool2d(self.conv1(x), kernel_size=2, stride=2))\n",
    "        #print(x.shape)\n",
    "        x = F.relu(F.max_pool2d(self.conv2(x), kernel_size=1, stride=1))\n",
    "        #print(x.shape)\n",
    "        x = F.relu(self.fc1(x.view(-1, 256)))\n",
    "        #print(x.shape)\n",
    "        x = self.fc2(x)\n",
    "        #print(x.shape)\n",
    "        return x\n",
    "    \n",
    "class Net2(nn.Module):\n",
    "    def __init__(self):\n",
    "        super().__init__()\n",
    "        nb_hidden = 200\n",
    "        self.conv1 = nn.Conv2d(1, 32, kernel_size=5)\n",
    "        self.conv2 = nn.Conv2d(32, 32, kernel_size=5)\n",
    "        self.conv3 = nn.Conv2d(32, 64, kernel_size=2)\n",
    "        self.fc1 = nn.Linear(9 * 64, nb_hidden)\n",
    "        self.fc2 = nn.Linear(nb_hidden, 10)\n",
    "\n",
    "    def forward(self, x):\n",
    "        x = F.relu(F.max_pool2d(self.conv1(x), kernel_size=2))\n",
    "        x = F.relu(F.max_pool2d(self.conv2(x), kernel_size=2))\n",
    "        x = F.relu(self.conv3(x))\n",
    "        x = F.relu(self.fc1(x.view(-1, 9 * 64)))\n",
    "        x = self.fc2(x)\n",
    "        return x"
   ]
  },
  {
   "cell_type": "code",
   "execution_count": 178,
   "id": "bf5941b4",
   "metadata": {},
   "outputs": [
    {
     "name": "stdout",
     "output_type": "stream",
     "text": [
      "torch.Size([1000, 2, 14, 14])\n"
     ]
    },
    {
     "data": {
      "image/png": "[encoded data removed]",
      "text/plain": [
       "<Figure size 432x288 with 20 Axes>"
      ]
     },
     "metadata": {},
     "output_type": "display_data"
    }
   ],
   "source": [
    "import matplotlib.pyplot as plt\n",
    "\n",
    "print(train_input.shape)\n",
    "\n",
    "fig ,axes = plt.subplots(10, 2)\n",
    "for i in range(10):\n",
    "    first = train_input[i][0,:,:]\n",
    "    second = train_input[i][1,:,:]\n",
    "    first_label = train_classes[i][0]\n",
    "    second_label = train_classes[i][1]\n",
    "    axes[i,0].imshow(first, cmap='gray')\n",
    "    axes[i,0].set_ylabel(str(first_label.item()))\n",
    "    axes[i,1].imshow(second, cmap='gray', interpolation='none')\n",
    "    axes[i,1].set_ylabel(str(second_label.item()))\n",
    "    axes[i,0].set_xticks([])\n",
    "    axes[i,0].set_yticks([])\n",
    "    axes[i,1].set_xticks([])\n",
    "    axes[i,1].set_yticks([])\n",
    "    fig"
   ]
  },
  {
   "cell_type": "code",
   "execution_count": 188,
   "id": "d4e56b6e",
   "metadata": {},
   "outputs": [],
   "source": [
    "def train_model(model, train_input, train_target, mini_batch_size, nb_epochs = 100):\n",
    "    criterion = nn.MSELoss()\n",
    "    eta = 1e-4\n",
    "    for e in range(nb_epochs):\n",
    "        acc_loss = 0\n",
    "\n",
    "        for b in range(0, train_input.size(0), mini_batch_size):\n",
    "            output = model(train_input.narrow(0, b, mini_batch_size))\n",
    "            loss = criterion(output, train_target.narrow(0, b, mini_batch_size))\n",
    "            acc_loss = acc_loss + loss.item()\n",
    " \n",
    "            model.zero_grad()\n",
    "            loss.backward()\n",
    "\n",
    "            with torch.no_grad():\n",
    "                for p in model.parameters():\n",
    "                    p -= eta * p.grad\n",
    "\n",
    "        print(e, acc_loss)\n",
    "        \n",
    "def compute_nb_errors(model, input, target, mini_batch_size):\n",
    "    nb_errors = 0\n",
    "\n",
    "    for b in range(0, input.size(0), mini_batch_size):\n",
    "        output = model(input.narrow(0, b, mini_batch_size))\n",
    "        _, predicted_classes = output.max(1)\n",
    "        for k in range(mini_batch_size):\n",
    "            if target[b + k, predicted_classes[k]] <= 0:\n",
    "                nb_errors = nb_errors + 1\n",
    "\n",
    "    return nb_errors"
   ]
  },
  {
   "cell_type": "code",
   "execution_count": 204,
   "id": "d4bc5b6d",
   "metadata": {
    "scrolled": true
   },
   "outputs": [
    {
     "name": "stdout",
     "output_type": "stream",
     "text": [
      "0 77.65539312362671\n",
      "1 26.76325225830078\n",
      "2 20.098580956459045\n",
      "3 16.563148975372314\n",
      "4 14.247095465660095\n",
      "5 12.595470786094666\n",
      "6 11.347179532051086\n",
      "7 10.359813690185547\n",
      "8 9.556088984012604\n",
      "9 8.886937022209167\n",
      "10 8.301170468330383\n",
      "11 7.7998053431510925\n",
      "12 7.369286477565765\n",
      "13 6.990125775337219\n",
      "14 6.655945301055908\n",
      "15 6.358202695846558\n",
      "16 6.089941203594208\n",
      "17 5.845628619194031\n",
      "18 5.6241955161094666\n",
      "19 5.425755679607391\n",
      "20 5.241968989372253\n",
      "21 5.068843573331833\n",
      "22 4.9099611937999725\n",
      "23 4.764589220285416\n",
      "24 4.628266513347626\n"
     ]
    }
   ],
   "source": [
    "model = Net(300)\n",
    "\n",
    "train_input_first = train_input[:,0,:,:].reshape([1000,1,14,14])\n",
    "train_classes_first = prologue.convert_to_one_hot_labels(train_input_first, train_classes[:,0])\n",
    "train_model(model, train_input_first, train_classes_first, mini_batch_size=100, nb_epochs=25)"
   ]
  },
  {
   "cell_type": "code",
   "execution_count": 205,
   "id": "3a830f6d",
   "metadata": {},
   "outputs": [
    {
     "name": "stdout",
     "output_type": "stream",
     "text": [
      "test error Net 75.50% 755/1000\n"
     ]
    }
   ],
   "source": [
    "test_input_first = test_input[:,0,:,:].reshape([1000,1,14,14])\n",
    "test_classes_first = prologue.convert_to_one_hot_labels(test_input_first, test_classes[:,0])\n",
    "nb_test_errors = compute_nb_errors(model, test_input_first, test_classes_first, mini_batch_size=100)\n",
    "print('test error Net {:0.2f}% {:d}/{:d}'.format((100 * nb_test_errors) / test_input_first.size(0),\n",
    "                                                      nb_test_errors, test_input_first.size(0)))"
   ]
  },
  {
   "cell_type": "code",
   "execution_count": null,
   "id": "86823548",
   "metadata": {},
   "outputs": [],
   "source": []
  },
  {
   "cell_type": "code",
   "execution_count": null,
   "id": "d606dfbf",
   "metadata": {},
   "outputs": [],
   "source": []
  }
 ],
 "metadata": {
  "kernelspec": {
   "display_name": "Python 3",
   "language": "python",
   "name": "python3"
  },
  "language_info": {
   "codemirror_mode": {
    "name": "ipython",
    "version": 3
   },
   "file_extension": ".py",
   "mimetype": "text/x-python",
   "name": "python",
   "nbconvert_exporter": "python",
   "pygments_lexer": "ipython3",
   "version": "3.7.10"
  }
 },
 "nbformat": 4,
 "nbformat_minor": 5
}
