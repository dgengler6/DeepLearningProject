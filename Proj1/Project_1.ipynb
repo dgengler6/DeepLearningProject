{
 "cells": [
  {
   "cell_type": "markdown",
   "id": "dfe89fd1",
   "metadata": {},
   "source": [
    "## Deep Learning Project 1 \n",
    "\n",
    "Comparing digits"
   ]
  },
  {
   "cell_type": "code",
   "execution_count": 43,
   "id": "ecf0dd0a",
   "metadata": {},
   "outputs": [],
   "source": [
    "import torch\n",
    "import math\n",
    "import dlc_practical_prologue as prologue\n",
    "from torch import optim\n",
    "from torch import Tensor\n",
    "from torch import nn\n",
    "from torch.nn import functional as F"
   ]
  },
  {
   "cell_type": "code",
   "execution_count": 44,
   "id": "f6cbc5eb",
   "metadata": {},
   "outputs": [],
   "source": [
    "# Generate the train and test sets.\n",
    "N = 1000\n",
    "train_input, train_target, train_classes, test_input, test_target, test_classes = prologue.generate_pair_sets(N)"
   ]
  },
  {
   "cell_type": "code",
   "execution_count": 84,
   "id": "62a0894d",
   "metadata": {},
   "outputs": [],
   "source": [
    "# Model Definition \n",
    "\n",
    "class Net(nn.Module):\n",
    "    def __init__(self, nb_hidden):\n",
    "        super().__init__()\n",
    "        self.conv1 = nn.Conv2d(1, 32, kernel_size=3)\n",
    "        self.conv2 = nn.Conv2d(32, 64, kernel_size=3)\n",
    "        self.fc1 = nn.Linear(256, nb_hidden)\n",
    "        self.fc2 = nn.Linear(nb_hidden, 10)\n",
    "\n",
    "    def forward(self, x):\n",
    "        prt = False\n",
    "        x = F.relu(F.max_pool2d(self.conv1(x), kernel_size=2))\n",
    "        if prt:\n",
    "            print(x.shape)\n",
    "        x = F.relu(F.max_pool2d(self.conv2(x), kernel_size=2))\n",
    "        if prt:\n",
    "            print(x.shape)\n",
    "        x = F.relu(self.fc1(x.view(-1, 256)))\n",
    "        if prt:\n",
    "            print(x.shape)\n",
    "        x = self.fc2(x)\n",
    "        if prt:\n",
    "            print(x.shape)\n",
    "        return x\n",
    "\n",
    "\n",
    "class Comparisson_Net(nn.Module):\n",
    "    def __init__(self):\n",
    "        super().__init__()\n",
    "        self.conv1 = nn.Conv2d(1, 32, kernel_size=3)\n",
    "        self.conv2 = nn.Conv2d(32, 64, kernel_size=3)\n",
    "        self.fc1 = nn.Linear(256, 200)\n",
    "        self.fc2 = nn.Linear(200, 10)\n",
    "    \n",
    "    def cnn(self, x):\n",
    "        x = F.relu(F.max_pool2d(self.conv1(x), kernel_size=2))\n",
    "        x = F.relu(F.max_pool2d(self.conv2(x), kernel_size=2))\n",
    "        x = F.relu(self.fc1(x.view(-1, 256)))\n",
    "        x = self.fc2(x)\n",
    "        return x\n",
    "    \n",
    "    def forward(self, x):\n",
    "        s = x.shape\n",
    "        print(s)\n",
    "        input_1 = x[:,0,:,:].reshape([s[0],1,s[2],s[3]])\n",
    "        input_2 = x[:,1,:,:].reshape([s[0],1,s[2],s[3]])\n",
    "        print(input_1.shape, input_2.shape)\n",
    "        output_1 = self.cnn(input_1)\n",
    "        output_2 = self.cnn(input_2)\n",
    "        print(output_1, output_2)\n",
    "        \n",
    "        return 1 if  output_1 > output_2 else 0 \n",
    "        \n",
    "        "
   ]
  },
  {
   "cell_type": "code",
   "execution_count": 76,
   "id": "bf5941b4",
   "metadata": {},
   "outputs": [
    {
     "name": "stdout",
     "output_type": "stream",
     "text": [
      "torch.Size([1000, 2, 14, 14])\n"
     ]
    },
    {
     "data": {
      "image/png": "[encoded data removed]",
      "text/plain": [
       "<Figure size 432x288 with 20 Axes>"
      ]
     },
     "metadata": {},
     "output_type": "display_data"
    }
   ],
   "source": [
    "import matplotlib.pyplot as plt\n",
    "\n",
    "print(train_input.shape)\n",
    "\n",
    "fig ,axes = plt.subplots(10, 2)\n",
    "for i in range(10):\n",
    "    first = train_input[i][0,:,:]\n",
    "    second = train_input[i][1,:,:]\n",
    "    first_label = train_classes[i][0]\n",
    "    second_label = train_classes[i][1]\n",
    "    axes[i,0].imshow(first, cmap='gray')\n",
    "    axes[i,0].set_ylabel(str(first_label.item()))\n",
    "    axes[i,1].imshow(second, cmap='gray', interpolation='none')\n",
    "    axes[i,1].set_ylabel(str(second_label.item()))\n",
    "    axes[i,0].set_xticks([])\n",
    "    axes[i,0].set_yticks([])\n",
    "    axes[i,1].set_xticks([])\n",
    "    axes[i,1].set_yticks([])\n",
    "    fig"
   ]
  },
  {
   "cell_type": "code",
   "execution_count": 53,
   "id": "d4e56b6e",
   "metadata": {},
   "outputs": [],
   "source": [
    "def train_model(model, train_input, train_target, mini_batch_size, nb_epochs = 100):\n",
    "    criterion = nn.CrossEntropyLoss()\n",
    "    eta = 1e-3\n",
    "    for e in range(nb_epochs):\n",
    "        acc_loss = 0\n",
    "\n",
    "        for b in range(0, train_input.size(0), mini_batch_size):\n",
    "            output = model(train_input.narrow(0, b, mini_batch_size))\n",
    "            loss = criterion(output, train_target.narrow(0, b, mini_batch_size))\n",
    "            acc_loss = acc_loss + loss.item()\n",
    " \n",
    "            model.zero_grad()\n",
    "            loss.backward()\n",
    "\n",
    "            with torch.no_grad():\n",
    "                for p in model.parameters():\n",
    "                    p -= eta * p.grad\n",
    "\n",
    "        print(e, acc_loss)\n",
    "        \n",
    "def compute_nb_errors(model, input, target, mini_batch_size):\n",
    "    nb_errors = 0\n",
    "\n",
    "    for b in range(0, input.size(0), mini_batch_size):\n",
    "        output = model(input.narrow(0, b, mini_batch_size))\n",
    "        _, predicted_classes = output.max(1)\n",
    "        for k in range(mini_batch_size):\n",
    "            if target[b + k, predicted_classes[k]] <= 0:\n",
    "                nb_errors = nb_errors + 1\n",
    "\n",
    "    return nb_errors"
   ]
  },
  {
   "cell_type": "code",
   "execution_count": 54,
   "id": "d4bc5b6d",
   "metadata": {
    "scrolled": true
   },
   "outputs": [
    {
     "name": "stdout",
     "output_type": "stream",
     "text": [
      "0 83.07379150390625\n",
      "1 17.225753664970398\n",
      "2 8.087629675865173\n",
      "3 6.508502125740051\n",
      "4 5.5445802211761475\n",
      "5 4.839455306529999\n",
      "6 4.27476179599762\n",
      "7 3.8158993124961853\n",
      "8 3.4500547647476196\n",
      "9 3.1508256793022156\n",
      "10 2.9060018062591553\n",
      "11 2.691473662853241\n",
      "12 2.5030227601528168\n",
      "13 2.3426622450351715\n",
      "14 2.201094329357147\n",
      "15 2.076381593942642\n",
      "16 1.9676635265350342\n",
      "17 1.8706440031528473\n",
      "18 1.7818549275398254\n",
      "19 1.7017315328121185\n",
      "20 1.6288729310035706\n",
      "21 1.5603239834308624\n",
      "22 1.4952377080917358\n",
      "23 1.4351552575826645\n",
      "24 1.3793738931417465\n",
      "25 1.3270999938249588\n",
      "26 1.278738483786583\n",
      "27 1.2329051792621613\n",
      "28 1.1893957555294037\n",
      "29 1.1484296023845673\n",
      "30 1.1096322536468506\n",
      "31 1.0719872564077377\n",
      "32 1.0367992669343948\n",
      "33 1.0027882307767868\n",
      "34 0.9717517048120499\n",
      "35 0.9411021173000336\n",
      "36 0.912038266658783\n",
      "37 0.8849972039461136\n",
      "38 0.8582970798015594\n",
      "39 0.8330053836107254\n",
      "40 0.8090366125106812\n",
      "41 0.7865533381700516\n",
      "42 0.7648034617304802\n",
      "43 0.7439449578523636\n",
      "44 0.7241906449198723\n",
      "45 0.705128476023674\n",
      "46 0.6869490444660187\n",
      "47 0.6697804927825928\n",
      "48 0.6524029821157455\n",
      "49 0.6362024918198586\n",
      "50 0.6205021142959595\n",
      "51 0.605569139122963\n",
      "52 0.5911150798201561\n",
      "53 0.5775624886155128\n",
      "54 0.5640104785561562\n",
      "55 0.5508589297533035\n",
      "56 0.5386636629700661\n",
      "57 0.5270176008343697\n",
      "58 0.5151890739798546\n",
      "59 0.5040644034743309\n",
      "60 0.4931466355919838\n",
      "61 0.4827142581343651\n",
      "62 0.4724171608686447\n",
      "63 0.4625530540943146\n",
      "64 0.4530116021633148\n",
      "65 0.44354860484600067\n",
      "66 0.43473362922668457\n",
      "67 0.42579592019319534\n",
      "68 0.41753071546554565\n",
      "69 0.4092279523611069\n",
      "70 0.4015396758913994\n",
      "71 0.39373011887073517\n",
      "72 0.3861586004495621\n",
      "73 0.3788231573998928\n",
      "74 0.37176840752363205\n",
      "75 0.36487817391753197\n",
      "76 0.3581549860537052\n",
      "77 0.3515646904706955\n",
      "78 0.34512051567435265\n",
      "79 0.3388821631669998\n",
      "80 0.332822248339653\n",
      "81 0.3269871585071087\n",
      "82 0.3212364576756954\n",
      "83 0.3155299946665764\n",
      "84 0.31020576134324074\n",
      "85 0.30494170635938644\n",
      "86 0.29960331693291664\n",
      "87 0.2947268709540367\n",
      "88 0.2897387035191059\n",
      "89 0.2851228378713131\n",
      "90 0.28037043288350105\n",
      "91 0.2757911756634712\n",
      "92 0.271370604634285\n",
      "93 0.2671182118356228\n",
      "94 0.2629137448966503\n",
      "95 0.2587585747241974\n",
      "96 0.25478892773389816\n",
      "97 0.2509399689733982\n",
      "98 0.24713975563645363\n",
      "99 0.24344046413898468\n"
     ]
    }
   ],
   "source": [
    "model = Net(200)\n",
    "\n",
    "train_input_first = train_input[:,0,:,:].reshape([1000,1,14,14])\n",
    "#train_classes_first = prologue.convert_to_one_hot_labels(train_input_first, train_classes[:,0])\n",
    "train_model(model, train_input_first, train_classes[:,0], mini_batch_size=200, nb_epochs=100)"
   ]
  },
  {
   "cell_type": "code",
   "execution_count": 55,
   "id": "3a830f6d",
   "metadata": {},
   "outputs": [
    {
     "name": "stdout",
     "output_type": "stream",
     "text": [
      "test error Net 9.60% 96/1000\n"
     ]
    }
   ],
   "source": [
    "test_input_first = test_input[:,0,:,:].reshape([1000,1,14,14])\n",
    "test_classes_first = prologue.convert_to_one_hot_labels(test_input_first, test_classes[:,0])\n",
    "nb_test_errors = compute_nb_errors(model, test_input_first, test_classes_first, mini_batch_size=200)\n",
    "print('test error Net {:0.2f}% {:d}/{:d}'.format((100 * nb_test_errors) / test_input_first.size(0),\n",
    "                                                      nb_test_errors, test_input_first.size(0)))"
   ]
  },
  {
   "cell_type": "code",
   "execution_count": 85,
   "id": "86823548",
   "metadata": {},
   "outputs": [
    {
     "name": "stdout",
     "output_type": "stream",
     "text": [
      "torch.Size([200, 2, 14, 14])\n",
      "torch.Size([200, 1, 14, 14]) torch.Size([200, 1, 14, 14])\n",
      "tensor([[  6.7573,  -0.6668,   2.4406,  ...,   8.1474,  -4.0051, -17.9995],\n",
      "        [ 10.2256,  -3.6260,   5.5699,  ...,   5.6834,  -8.7456,  -7.8770],\n",
      "        [  5.4390,  -1.1102,   4.1383,  ...,   9.7175, -10.0729, -14.7232],\n",
      "        ...,\n",
      "        [  3.0957,  -3.6641,  -0.3118,  ...,   7.7384,  -6.7733, -11.7178],\n",
      "        [  5.9055,  -2.6778,  -0.2602,  ...,   9.5142,  -3.2308, -12.2267],\n",
      "        [  7.2614,   0.7065,   2.8962,  ...,   9.3985,  -7.9075, -15.1172]],\n",
      "       grad_fn=<AddmmBackward>) tensor([[  5.6967,  -0.5139,   4.8891,  ...,   7.0900,  -6.6469,  -8.7954],\n",
      "        [  3.1533,  -6.4154,   1.8406,  ...,  11.7050,  -6.8144,  -9.8480],\n",
      "        [  5.5618,   4.8932,   1.0612,  ...,   3.2230,  -5.5525, -11.5279],\n",
      "        ...,\n",
      "        [  2.9802,  -3.5464,   1.2761,  ...,   4.2921,  -4.0978,  -8.9410],\n",
      "        [  5.4074,   4.6492,   0.3372,  ...,   9.6221,  -9.3929, -14.5132],\n",
      "        [  4.3528,  -2.5453,   1.0384,  ...,   6.5307,  -1.0618,  -6.5425]],\n",
      "       grad_fn=<AddmmBackward>)\n"
     ]
    },
    {
     "ename": "RuntimeError",
     "evalue": "bool value of Tensor with more than one value is ambiguous",
     "output_type": "error",
     "traceback": [
      "\u001b[0;31m---------------------------------------------------------------------------\u001b[0m",
      "\u001b[0;31mRuntimeError\u001b[0m                              Traceback (most recent call last)",
      "\u001b[0;32m<ipython-input-85-c4a7d2601db6>\u001b[0m in \u001b[0;36m<module>\u001b[0;34m\u001b[0m\n\u001b[1;32m      2\u001b[0m \u001b[0;34m\u001b[0m\u001b[0m\n\u001b[1;32m      3\u001b[0m \u001b[0;34m\u001b[0m\u001b[0m\n\u001b[0;32m----> 4\u001b[0;31m \u001b[0mtrain_model\u001b[0m\u001b[0;34m(\u001b[0m\u001b[0mmodel2\u001b[0m\u001b[0;34m,\u001b[0m \u001b[0mtrain_input\u001b[0m\u001b[0;34m,\u001b[0m \u001b[0mtrain_target\u001b[0m\u001b[0;34m,\u001b[0m \u001b[0mmini_batch_size\u001b[0m\u001b[0;34m=\u001b[0m\u001b[0;36m200\u001b[0m\u001b[0;34m,\u001b[0m \u001b[0mnb_epochs\u001b[0m\u001b[0;34m=\u001b[0m\u001b[0;36m100\u001b[0m\u001b[0;34m)\u001b[0m\u001b[0;34m\u001b[0m\u001b[0;34m\u001b[0m\u001b[0m\n\u001b[0m",
      "\u001b[0;32m<ipython-input-53-6458e7fc5732>\u001b[0m in \u001b[0;36mtrain_model\u001b[0;34m(model, train_input, train_target, mini_batch_size, nb_epochs)\u001b[0m\n\u001b[1;32m      6\u001b[0m \u001b[0;34m\u001b[0m\u001b[0m\n\u001b[1;32m      7\u001b[0m         \u001b[0;32mfor\u001b[0m \u001b[0mb\u001b[0m \u001b[0;32min\u001b[0m \u001b[0mrange\u001b[0m\u001b[0;34m(\u001b[0m\u001b[0;36m0\u001b[0m\u001b[0;34m,\u001b[0m \u001b[0mtrain_input\u001b[0m\u001b[0;34m.\u001b[0m\u001b[0msize\u001b[0m\u001b[0;34m(\u001b[0m\u001b[0;36m0\u001b[0m\u001b[0;34m)\u001b[0m\u001b[0;34m,\u001b[0m \u001b[0mmini_batch_size\u001b[0m\u001b[0;34m)\u001b[0m\u001b[0;34m:\u001b[0m\u001b[0;34m\u001b[0m\u001b[0;34m\u001b[0m\u001b[0m\n\u001b[0;32m----> 8\u001b[0;31m             \u001b[0moutput\u001b[0m \u001b[0;34m=\u001b[0m \u001b[0mmodel\u001b[0m\u001b[0;34m(\u001b[0m\u001b[0mtrain_input\u001b[0m\u001b[0;34m.\u001b[0m\u001b[0mnarrow\u001b[0m\u001b[0;34m(\u001b[0m\u001b[0;36m0\u001b[0m\u001b[0;34m,\u001b[0m \u001b[0mb\u001b[0m\u001b[0;34m,\u001b[0m \u001b[0mmini_batch_size\u001b[0m\u001b[0;34m)\u001b[0m\u001b[0;34m)\u001b[0m\u001b[0;34m\u001b[0m\u001b[0;34m\u001b[0m\u001b[0m\n\u001b[0m\u001b[1;32m      9\u001b[0m             \u001b[0mloss\u001b[0m \u001b[0;34m=\u001b[0m \u001b[0mcriterion\u001b[0m\u001b[0;34m(\u001b[0m\u001b[0moutput\u001b[0m\u001b[0;34m,\u001b[0m \u001b[0mtrain_target\u001b[0m\u001b[0;34m.\u001b[0m\u001b[0mnarrow\u001b[0m\u001b[0;34m(\u001b[0m\u001b[0;36m0\u001b[0m\u001b[0;34m,\u001b[0m \u001b[0mb\u001b[0m\u001b[0;34m,\u001b[0m \u001b[0mmini_batch_size\u001b[0m\u001b[0;34m)\u001b[0m\u001b[0;34m)\u001b[0m\u001b[0;34m\u001b[0m\u001b[0;34m\u001b[0m\u001b[0m\n\u001b[1;32m     10\u001b[0m             \u001b[0macc_loss\u001b[0m \u001b[0;34m=\u001b[0m \u001b[0macc_loss\u001b[0m \u001b[0;34m+\u001b[0m \u001b[0mloss\u001b[0m\u001b[0;34m.\u001b[0m\u001b[0mitem\u001b[0m\u001b[0;34m(\u001b[0m\u001b[0;34m)\u001b[0m\u001b[0;34m\u001b[0m\u001b[0;34m\u001b[0m\u001b[0m\n",
      "\u001b[0;32m/Library/anaconda3/envs/IAPR-DL/lib/python3.7/site-packages/torch/nn/modules/module.py\u001b[0m in \u001b[0;36m__call__\u001b[0;34m(self, *input, **kwargs)\u001b[0m\n\u001b[1;32m    539\u001b[0m             \u001b[0mresult\u001b[0m \u001b[0;34m=\u001b[0m \u001b[0mself\u001b[0m\u001b[0;34m.\u001b[0m\u001b[0m_slow_forward\u001b[0m\u001b[0;34m(\u001b[0m\u001b[0;34m*\u001b[0m\u001b[0minput\u001b[0m\u001b[0;34m,\u001b[0m \u001b[0;34m**\u001b[0m\u001b[0mkwargs\u001b[0m\u001b[0;34m)\u001b[0m\u001b[0;34m\u001b[0m\u001b[0;34m\u001b[0m\u001b[0m\n\u001b[1;32m    540\u001b[0m         \u001b[0;32melse\u001b[0m\u001b[0;34m:\u001b[0m\u001b[0;34m\u001b[0m\u001b[0;34m\u001b[0m\u001b[0m\n\u001b[0;32m--> 541\u001b[0;31m             \u001b[0mresult\u001b[0m \u001b[0;34m=\u001b[0m \u001b[0mself\u001b[0m\u001b[0;34m.\u001b[0m\u001b[0mforward\u001b[0m\u001b[0;34m(\u001b[0m\u001b[0;34m*\u001b[0m\u001b[0minput\u001b[0m\u001b[0;34m,\u001b[0m \u001b[0;34m**\u001b[0m\u001b[0mkwargs\u001b[0m\u001b[0;34m)\u001b[0m\u001b[0;34m\u001b[0m\u001b[0;34m\u001b[0m\u001b[0m\n\u001b[0m\u001b[1;32m    542\u001b[0m         \u001b[0;32mfor\u001b[0m \u001b[0mhook\u001b[0m \u001b[0;32min\u001b[0m \u001b[0mself\u001b[0m\u001b[0;34m.\u001b[0m\u001b[0m_forward_hooks\u001b[0m\u001b[0;34m.\u001b[0m\u001b[0mvalues\u001b[0m\u001b[0;34m(\u001b[0m\u001b[0;34m)\u001b[0m\u001b[0;34m:\u001b[0m\u001b[0;34m\u001b[0m\u001b[0;34m\u001b[0m\u001b[0m\n\u001b[1;32m    543\u001b[0m             \u001b[0mhook_result\u001b[0m \u001b[0;34m=\u001b[0m \u001b[0mhook\u001b[0m\u001b[0;34m(\u001b[0m\u001b[0mself\u001b[0m\u001b[0;34m,\u001b[0m \u001b[0minput\u001b[0m\u001b[0;34m,\u001b[0m \u001b[0mresult\u001b[0m\u001b[0;34m)\u001b[0m\u001b[0;34m\u001b[0m\u001b[0;34m\u001b[0m\u001b[0m\n",
      "\u001b[0;32m<ipython-input-84-5e1b17e337aa>\u001b[0m in \u001b[0;36mforward\u001b[0;34m(self, x)\u001b[0m\n\u001b[1;32m     51\u001b[0m         \u001b[0mprint\u001b[0m\u001b[0;34m(\u001b[0m\u001b[0moutput_1\u001b[0m\u001b[0;34m,\u001b[0m \u001b[0moutput_2\u001b[0m\u001b[0;34m)\u001b[0m\u001b[0;34m\u001b[0m\u001b[0;34m\u001b[0m\u001b[0m\n\u001b[1;32m     52\u001b[0m \u001b[0;34m\u001b[0m\u001b[0m\n\u001b[0;32m---> 53\u001b[0;31m         \u001b[0;32mreturn\u001b[0m \u001b[0;36m1\u001b[0m \u001b[0;32mif\u001b[0m  \u001b[0moutput_1\u001b[0m \u001b[0;34m>\u001b[0m \u001b[0moutput_2\u001b[0m \u001b[0;32melse\u001b[0m \u001b[0;36m0\u001b[0m\u001b[0;34m\u001b[0m\u001b[0;34m\u001b[0m\u001b[0m\n\u001b[0m\u001b[1;32m     54\u001b[0m \u001b[0;34m\u001b[0m\u001b[0m\n\u001b[1;32m     55\u001b[0m \u001b[0;34m\u001b[0m\u001b[0m\n",
      "\u001b[0;31mRuntimeError\u001b[0m: bool value of Tensor with more than one value is ambiguous"
     ]
    }
   ],
   "source": [
    "model2 = Comparisson_Net()\n",
    "\n",
    "\n",
    "train_model(model2, train_input, train_target, mini_batch_size=200, nb_epochs=100)"
   ]
  },
  {
   "cell_type": "code",
   "execution_count": null,
   "id": "d606dfbf",
   "metadata": {},
   "outputs": [],
   "source": []
  }
 ],
 "metadata": {
  "kernelspec": {
   "display_name": "Python 3",
   "language": "python",
   "name": "python3"
  },
  "language_info": {
   "codemirror_mode": {
    "name": "ipython",
    "version": 3
   },
   "file_extension": ".py",
   "mimetype": "text/x-python",
   "name": "python",
   "nbconvert_exporter": "python",
   "pygments_lexer": "ipython3",
   "version": "3.7.10"
  }
 },
 "nbformat": 4,
 "nbformat_minor": 5
}
