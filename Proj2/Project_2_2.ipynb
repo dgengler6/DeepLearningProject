{
 "cells": [
  {
   "cell_type": "markdown",
   "id": "greek-mechanism",
   "metadata": {},
   "source": [
    "## Usefuls sources of informations:\n",
    "\n",
    "* https://github.com/hbjornoy/deep-learning/blob/master/project2/helpers.py\n",
    "* https://github.com/Ertugrulmert/EPFL-Deep-Learning-Projects/blob/master/Project_2/framework.py\n",
    "* https://github.com/marieanselmet/DeepLearningEPFL_projects/tree/main/DL_framework_from_scratch\n",
    "\n",
    "La grande différence est que tout le monde définit module avec un argument, et non une liste * -> à voir si on doit changer pour faire comme les années précédentes ou s'il y a qqc de plus pratique"
   ]
  },
  {
   "cell_type": "markdown",
   "id": "handled-worry",
   "metadata": {},
   "source": [
    "## TODO\n",
    "\n",
    "* Pour les modules retournant une empty list sur param, enlever la fonction param (ça sert à rien de l'override)"
   ]
  },
  {
   "cell_type": "code",
   "execution_count": 2,
   "id": "minimal-sewing",
   "metadata": {},
   "outputs": [
    {
     "data": {
      "text/plain": [
       "<torch.autograd.grad_mode.set_grad_enabled at 0x7fb9a1e6ad00>"
      ]
     },
     "execution_count": 2,
     "metadata": {},
     "output_type": "execute_result"
    }
   ],
   "source": [
    "import torch\n",
    "import math\n",
    "import time\n",
    "import datetime\n",
    "import random\n",
    "\n",
    "from torch import Tensor\n",
    "torch.set_grad_enabled(False)"
   ]
  },
  {
   "cell_type": "code",
   "execution_count": 3,
   "id": "stable-office",
   "metadata": {},
   "outputs": [],
   "source": [
    "# The father of all Modules\n",
    "class Module(object):\n",
    "    def forward(self, *input):\n",
    "        raise NotImplementedError\n",
    "        \n",
    "    def backward(self, *gradwrtoutput):\n",
    "        raise NotImplementedError\n",
    "        \n",
    "    def param(self):\n",
    "        return []"
   ]
  },
  {
   "cell_type": "markdown",
   "id": "operational-packing",
   "metadata": {},
   "source": [
    "## Activation\n",
    "\n",
    "À part ReLU et Tanh c'est pas précisé dans l'énoncé - là c'est juste pour le flex"
   ]
  },
  {
   "cell_type": "code",
   "execution_count": 4,
   "id": "devoted-galaxy",
   "metadata": {},
   "outputs": [],
   "source": [
    "class ReLU(Module):\n",
    "    def __init__(self):\n",
    "        super().__init__()\n",
    "        \n",
    "    def forward(self, input):\n",
    "        self.t = input\n",
    "        return input.clamp(0)\n",
    "\n",
    "    def backward(self, gradwrtoutput):\n",
    "        input = self.t\n",
    "        sign = input.sign().clamp(0)\n",
    "        return sign * gradwrtoutput\n",
    "        \n",
    "    def param(self):\n",
    "        return []"
   ]
  },
  {
   "cell_type": "code",
   "execution_count": 5,
   "id": "juvenile-offer",
   "metadata": {},
   "outputs": [],
   "source": [
    "class Tanh(Module):\n",
    "    def __init__(self):\n",
    "        super().__init__()\n",
    "        \n",
    "    def forward(self, input):\n",
    "        self.t = input\n",
    "        \n",
    "        out = []\n",
    "        for x in input :\n",
    "            e = math.exp(-2 * x)\n",
    "            val = (1 - e) / (1 + e)\n",
    "            out.append(val)\n",
    "        return torch.FloatTensor(out)\n",
    "\n",
    "    def backward(self, gradwrtoutput):\n",
    "        z = self.t\n",
    "        e = torch.exp(-2 * z)\n",
    "        d_tanh = 4 * e / (1 + e)**2\n",
    "        return d_tanh * gradwrtoutput\n",
    "        \n",
    "    def param(self):\n",
    "        return []"
   ]
  },
  {
   "cell_type": "code",
   "execution_count": 6,
   "id": "rapid-invention",
   "metadata": {},
   "outputs": [],
   "source": [
    "class Sigmoid(Module):\n",
    "    def __init__(self):\n",
    "        super().__init__()\n",
    "        \n",
    "    def forward(self, input):\n",
    "        self.t = input\n",
    "        return input.mul(-1).exp().add(1).pow(-1)\n",
    "\n",
    "    def backward(self, gradwrtoutput):\n",
    "        sig = self.t.mul(-1).exp().add(1).pow(-1)\n",
    "        return sig.mul(-1).add(1).mul(sig)\n",
    "        \n",
    "    def param(self):\n",
    "        return []"
   ]
  },
  {
   "cell_type": "markdown",
   "id": "periodic-romantic",
   "metadata": {},
   "source": [
    "## Layers"
   ]
  },
  {
   "cell_type": "code",
   "execution_count": 7,
   "id": "public-replica",
   "metadata": {},
   "outputs": [],
   "source": [
    "class Linear(Module):\n",
    "    def __init__(self, input_size, output_size, mean=0, std=1):\n",
    "        super().__init__()\n",
    "        self.W = torch.empty(output_size, input_size).normal_(mean, std)\n",
    "        self.b = torch.empty(output_size).normal_(mean, std)\n",
    "        self.dW = torch.zeros(output_size, input_size)\n",
    "        self.db = torch.zeros(output_size)\n",
    "    def forward(self, input):\n",
    "        self.t = input\n",
    "        return self.W.mv(input).add(self.b)\n",
    "\n",
    "    def backward(self, gradwrtoutput):\n",
    "        self.dW.add_(gradwrtoutput.view(1, -1).t().mm(self.t.view(1, -1)))\n",
    "        self.db.add_(gradwrtoutput)\n",
    "        #print(gradwrtoutput.shape, self.W.shape)\n",
    "        return self.W.t().mv(gradwrtoutput)\n",
    "        \n",
    "        \n",
    "    def param(self):\n",
    "        return [(self.W, self.dW), (self.b, self.db)]"
   ]
  },
  {
   "cell_type": "code",
   "execution_count": 8,
   "id": "49fa1de3",
   "metadata": {},
   "outputs": [],
   "source": [
    "class Dropout(Module):\n",
    "    def __init__(self, p = 0.5):\n",
    "        super().__init__()\n",
    "        self.p = p\n",
    "        \n",
    "    def forward(self, input):\n",
    "        for i in range(input.shape[0]):\n",
    "            if random.random() < self.p : \n",
    "                input[i] = 0 \n",
    "        return input\n",
    "    \n",
    "    def backward(self, gradwrtoutput):\n",
    "        return gradwrtoutput\n",
    "        \n",
    "        \n",
    "    def param(self):\n",
    "        return []"
   ]
  },
  {
   "cell_type": "code",
   "execution_count": 9,
   "id": "fcf391b5",
   "metadata": {},
   "outputs": [
    {
     "data": {
      "text/plain": [
       "tensor([0., 1., 1., 1., 1., 1., 0., 1., 1., 1.])"
      ]
     },
     "execution_count": 9,
     "metadata": {},
     "output_type": "execute_result"
    }
   ],
   "source": [
    "l = Dropout(0.5)\n",
    "t = torch.empty(10).fill_(1)\n",
    "l.forward(t)"
   ]
  },
  {
   "cell_type": "markdown",
   "id": "rural-account",
   "metadata": {},
   "source": [
    "## Sequential\n",
    "\n",
    "Lui en input il prend une liste de modules et son fwd c'est de feed le fwd de chaque layer dans l'autre"
   ]
  },
  {
   "cell_type": "code",
   "execution_count": 10,
   "id": "dirty-contest",
   "metadata": {},
   "outputs": [],
   "source": [
    "class Sequential(Module):\n",
    "    def __init__(self, module_list):\n",
    "        super().__init__()\n",
    "        self.modules = module_list\n",
    "        \n",
    "    def forward(self, input):\n",
    "        x = input\n",
    "        for module in self.modules :\n",
    "            x = module.forward(x)\n",
    "        return x \n",
    "\n",
    "    def backward(self, gradwrtoutput):\n",
    "        x = gradwrtoutput\n",
    "        for module in reversed(self.modules) :\n",
    "            x = module.backward(x)\n",
    "        return x\n",
    "        \n",
    "    def param(self):\n",
    "        params = []\n",
    "        for module in self.modules:\n",
    "            #print(module.param())\n",
    "            for par in module.param():\n",
    "                params.append(par)\n",
    "        return params"
   ]
  },
  {
   "cell_type": "markdown",
   "id": "outstanding-representation",
   "metadata": {},
   "source": [
    "## Loss\n",
    "\n",
    "Seule lossMSE est demandé"
   ]
  },
  {
   "cell_type": "code",
   "execution_count": 11,
   "id": "ready-lesson",
   "metadata": {},
   "outputs": [],
   "source": [
    "class LossMSE(Module):\n",
    "    def __init__(self):\n",
    "        super().__init__()\n",
    "        \n",
    "    def forward(self, pred, target):\n",
    "        self.pred = pred\n",
    "        self.target = target\n",
    "        return (pred - target.float()).pow(2).mean()\n",
    "    \n",
    "    # J'ai pas mis les arguments dans backward car je pars du principe que la MSE est la dernière fonction utilisée\n",
    "    def backward(self):\n",
    "        return 2 * (self.pred - self.target)\n",
    "    \n",
    "    def param(self):\n",
    "        return []"
   ]
  },
  {
   "cell_type": "code",
   "execution_count": 12,
   "id": "cutting-harmony",
   "metadata": {},
   "outputs": [],
   "source": [
    "class LossMAE(Module):\n",
    "    def __init__(self):\n",
    "        super().__init__()\n",
    "        \n",
    "    def forward(self, pred, target):\n",
    "        self.pred = pred\n",
    "        self.target = target\n",
    "        return (pred - target.float()).abs().mean()\n",
    "\n",
    "    def backward(self):\n",
    "        error = self.pred - self.target\n",
    "        return error.sign()\n",
    "        \n",
    "    def param(self):\n",
    "        return []"
   ]
  },
  {
   "cell_type": "code",
   "execution_count": 13,
   "id": "industrial-triple",
   "metadata": {},
   "outputs": [],
   "source": [
    "# Binary cross entropy loss\n",
    "# Note: We need to use sigmoid function before using BCE otherwise it makes no sense\n",
    "class LossBCE(Module):\n",
    "    def __init__(self):\n",
    "        super().__init__()\n",
    "        \n",
    "    def forward(self, pred, target):\n",
    "        self.pred = pred\n",
    "        self.target = target\n",
    "        #print(target * pred.log())\n",
    "        return ((target * pred.log()) + ((1 - target) * (1 - pred).log())).mean()\n",
    "\n",
    "    def backward(self):\n",
    "        return ((-target/pred) + ((1 - target)/(1 - pred))).mean()\n",
    "        \n",
    "    def param(self):\n",
    "        return []"
   ]
  },
  {
   "cell_type": "markdown",
   "id": "caring-beast",
   "metadata": {},
   "source": [
    "## Optimizer\n",
    "\n",
    "Pas demandé mais fancy"
   ]
  },
  {
   "cell_type": "code",
   "execution_count": 14,
   "id": "bacterial-parallel",
   "metadata": {},
   "outputs": [],
   "source": [
    "class SGD():\n",
    "    def __init__(self, params, lr, seq = True):\n",
    "        self.params = params\n",
    "        self.lr = lr\n",
    "        self.seq = seq\n",
    "        print(len(self.params))\n",
    "    def step(self): \n",
    "        for module in self.params:\n",
    "            param, grad = module\n",
    "            if (param is not None) and (grad is not None):\n",
    "                param.sub_(grad, alpha=self.lr)\n",
    "    \n",
    "    def zero_grad(self):\n",
    "        for module in self.params:\n",
    "            param, grad = module\n",
    "            if (param is not None) and (grad is not None):\n",
    "                grad.zero_()\n",
    "                    \n",
    "    def show(self):\n",
    "        # To remove, for debugging\n",
    "        for idx, i in enumerate(self.params):\n",
    "            print(idx, i)"
   ]
  },
  {
   "cell_type": "code",
   "execution_count": 15,
   "id": "democratic-scholarship",
   "metadata": {
    "scrolled": true
   },
   "outputs": [],
   "source": [
    "class Adam():\n",
    "    def __init__(self, params, lr, beta_1 = 0.9, beta_2 = 0.999, epsilon = 1e-8):\n",
    "        self.params = params\n",
    "        self.lr = lr\n",
    "        self.beta_1 = beta_1\n",
    "        self.beta_2 = beta_2\n",
    "        self.epsilon = epsilon\n",
    "        \n",
    "        # Adam inner values \n",
    "        self.t = 0\n",
    "        self.adam_values = []\n",
    "        for t in self.params:\n",
    "            t0, t1 = t\n",
    "            self.adam_values.append((torch.zeros_like(t0), torch.zeros_like(t1)))\n",
    "\n",
    "    def step(self):\n",
    "        self.t += 1 \n",
    "        for idx_module, module in enumerate(self.params):\n",
    "            param, grad = module\n",
    "            if (param is not None) and (grad is not None):\n",
    "                #Update Vd and Sd, for each tuple we keep vd and sd \n",
    "                vd, sd = self.adam_values[idx_module]\n",
    "\n",
    "                vd.mul_(self.beta_1).add_(grad.mul(1 - self.beta_1))\n",
    "                sd.mul_(self.beta_2).add_(grad.pow(2).mul(1 - self.beta_2))\n",
    "\n",
    "                # Compute corrected Values\n",
    "                vd_corr = vd.mul(torch.tensor([[self.beta_1]]).pow(self.t).mul(-1).add(1).pow(-1)) \n",
    "                sd_corr = sd.mul(torch.tensor([[self.beta_2]]).pow(self.t).mul(-1).add(1).pow(-1)) \n",
    "\n",
    "                # Update the parameter \n",
    "                v =sd_corr.sqrt().add(self.epsilon).pow(-1).mul(vd_corr)\n",
    "                \n",
    "                #print(\"param, v\", param, param.shape, v, v.shape)\n",
    "                param.sub_(v.reshape(param.shape), alpha=self.lr)\n",
    "\n",
    "    def zero_grad(self):\n",
    "        for module in self.params:\n",
    "            param, grad = module\n",
    "            if (param is not None) and (grad is not None):\n",
    "                grad.zero_()\n",
    "                    \n",
    "    def show(self):\n",
    "        # To remove, for debugging\n",
    "        print(self.t)\n",
    "        print(\"PARAMS : \")\n",
    "        for i in self.params:\n",
    "            print(i)\n",
    "        print((\"ADAM [Vd, Sd] : \"))\n",
    "        for i in self.adam_values:\n",
    "            print(i)"
   ]
  },
  {
   "cell_type": "markdown",
   "id": "settled-evening",
   "metadata": {},
   "source": [
    "## Data generation"
   ]
  },
  {
   "cell_type": "code",
   "execution_count": 16,
   "id": "experienced-graphic",
   "metadata": {},
   "outputs": [],
   "source": [
    "def generate_disc_dataset(nb, seed=0):\n",
    "    torch.manual_seed(seed)\n",
    "    input = torch.empty(nb, 2).uniform_(0, 1)\n",
    "    \n",
    "    distance = torch.norm((input - torch.Tensor([[0.5, 0.5]])), 2, 1, True)\n",
    "    target = distance.mul(math.sqrt(2*math.pi)).sub(1).sign().sub(1).div(-2).long()  \n",
    "    return input, target"
   ]
  },
  {
   "cell_type": "code",
   "execution_count": 17,
   "id": "greek-netscape",
   "metadata": {},
   "outputs": [],
   "source": [
    "# Pas sûr de l'interêt du one hot encoder vu l'énoncé mais je peux me tromper \n",
    "def one_hot_encoder(target):\n",
    "    return torch.empty(target.size(0), 2).zero_().scatter_(1, target.view(-1, 1), 1)"
   ]
  },
  {
   "cell_type": "code",
   "execution_count": 18,
   "id": "advised-secret",
   "metadata": {},
   "outputs": [],
   "source": [
    "def split_dataset(input, target, train_perc):\n",
    "    train_part = math.floor(target.size()[0] * train_perc)\n",
    "    test_part = target.size()[0] - train_part\n",
    "    \n",
    "    train_input = input.narrow(0, 0, train_part)\n",
    "    test_input = input.narrow(0, train_part, test_part)\n",
    "    \n",
    "    train_target = target.narrow(0, 0, train_part)\n",
    "    test_target = target.narrow(0, train_part, test_part)\n",
    "    \n",
    "    return train_input, train_target, test_input, test_target"
   ]
  },
  {
   "cell_type": "code",
   "execution_count": 19,
   "id": "defined-section",
   "metadata": {},
   "outputs": [],
   "source": [
    "def normalize_data(train, test):\n",
    "    mean, std = train.mean(), train.std()\n",
    "    train = (train - mean) / std\n",
    "    test = (test - mean) / std\n",
    "    return train, test"
   ]
  },
  {
   "cell_type": "code",
   "execution_count": 20,
   "id": "correct-vegetable",
   "metadata": {
    "scrolled": false
   },
   "outputs": [
    {
     "name": "stderr",
     "output_type": "stream",
     "text": [
      "<ipython-input-20-157b9d967744>:6: UserWarning: This overload of nonzero is deprecated:\n",
      "\tnonzero()\n",
      "Consider using one of the following signatures instead:\n",
      "\tnonzero(*, bool as_tuple) (Triggered internally at  /opt/conda/conda-bld/pytorch_1607370124688/work/torch/csrc/utils/python_arg_parser.cpp:882.)\n",
      "  zeros = input[(target == 0).nonzero()[:,0]]\n"
     ]
    },
    {
     "data": {
      "image/png": "[encoded data removed]",
      "text/plain": [
       "<Figure size 432x432 with 1 Axes>"
      ]
     },
     "metadata": {
      "needs_background": "light"
     },
     "output_type": "display_data"
    }
   ],
   "source": [
    "import matplotlib.pyplot as plt \n",
    "\n",
    "input, target = generate_disc_dataset(1000)\n",
    "\n",
    "def plot_from_input(input, target):\n",
    "    zeros = input[(target == 0).nonzero()[:,0]]\n",
    "    ones = input[target.nonzero()[:,0]]\n",
    "    plt.figure(figsize= (6,6))\n",
    "    plt.scatter(zeros[:,0], zeros[:,1], label='zeros')\n",
    "    plt.scatter(ones[:,0], ones[:,1], label= 'ones')\n",
    "    plt.legend()\n",
    "    plt.savefig('generated_data.png')\n",
    "    plt.show()\n",
    "\n",
    "plot_from_input(input, target)"
   ]
  },
  {
   "cell_type": "markdown",
   "id": "approved-alfred",
   "metadata": {},
   "source": [
    "## Train / Test"
   ]
  },
  {
   "cell_type": "code",
   "execution_count": 45,
   "id": "introductory-pharmaceutical",
   "metadata": {},
   "outputs": [],
   "source": [
    "def train(model, train_input, train_target, loss_function, learning_rate=0.0001, nb_epochs=100):\n",
    "    \n",
    "    criterion = loss_function\n",
    "    optimizer = SGD(model.param(), learning_rate)\n",
    "    \n",
    "    losses = []\n",
    "    \n",
    "    for epoch in range(nb_epochs):\n",
    "        \n",
    "        acc_loss = 0\n",
    "\n",
    "        for idx, input in enumerate(train_input):\n",
    "            optimizer.zero_grad()\n",
    "            output = model.forward(input)\n",
    "            target = train_target[idx]\n",
    "            \n",
    "            loss = criterion.forward(output, target)\n",
    "            #print(output, target, loss.item())\n",
    "            acc_loss = acc_loss + loss.item()\n",
    "            \n",
    "            grad_loss = criterion.backward()\n",
    "            model.backward(grad_loss)\n",
    "            optimizer.step()\n",
    "        \n",
    "        avg_acc_loss = acc_loss / train_input.shape[0]\n",
    "        losses.append(avg_acc_loss)\n",
    "        print(f\"epoch {epoch}, Loss {avg_acc_loss}\")\n",
    "    return model, losses\n",
    "\n",
    "def train_adam(model, train_input, train_target, loss_function, learning_rate=0.05, nb_epochs=100):\n",
    "    \n",
    "    criterion = loss_function\n",
    "    optimizer = Adam(model.param(), learning_rate)\n",
    "    losses = []\n",
    "\n",
    "    for epoch in range(nb_epochs):\n",
    "        \n",
    "        acc_loss = 0\n",
    "\n",
    "        for idx, input in enumerate(train_input):\n",
    "            optimizer.zero_grad()\n",
    "            output = model.forward(input)\n",
    "            target = train_target[idx]\n",
    "            \n",
    "            loss = criterion.forward(output, target)\n",
    "            #print(output, target, loss.item())\n",
    "            acc_loss = acc_loss + loss.item()\n",
    "            \n",
    "            grad_loss = criterion.backward()\n",
    "            model.backward(grad_loss)\n",
    "            optimizer.step()\n",
    "            \n",
    "            \n",
    "        losses.append(acc_loss)\n",
    "        print(f\"epoch {epoch}, Loss {acc_loss}\")\n",
    "    return model, losses\n",
    "\n",
    "\n",
    "def test(model, test_input, test_label):\n",
    "    nb_correct = 0\n",
    "    nb_total = test_input.shape[0]\n",
    "    x_0 = []\n",
    "    y_0 = []\n",
    "    x_1 = []\n",
    "    y_1 = []\n",
    "    \n",
    "    for idx, input in enumerate(test_input):\n",
    "        prediction = model.forward(input)\n",
    "        target = test_label[idx]\n",
    "        if prediction < 0.5 :\n",
    "            x_0.append(input[0])\n",
    "            y_0.append(input[1])\n",
    "        else :\n",
    "            x_1.append(input[0])\n",
    "            y_1.append(input[1])\n",
    "            \n",
    "        nb_correct += (prediction > 0.5) == target\n",
    "    plt.figure(figsize= (6,6))\n",
    "    plt.scatter(x_0, y_0, label='zeros')\n",
    "    plt.scatter(x_1, y_1, label= 'ones')\n",
    "    plt.legend()\n",
    "    plt.show()\n",
    "    print(nb_correct, nb_total, 100 * nb_correct/nb_total)\n",
    "    return  100 * nb_correct/nb_total"
   ]
  },
  {
   "cell_type": "markdown",
   "id": "effective-confidence",
   "metadata": {},
   "source": [
    "## Data creation and code \n",
    "\n",
    "Note: j'ai pas compris si on doit utiliser 1000 datasets pour le train + 1000 dataset pour le test, pour le moment j'ai fait 1000 pour les 2 et je split ensuite, à voir comment on veut faire \n",
    "\n",
    "Note: Si on veut faire un truc fancy et visualiser notre data, il faudrait faire l'opération \"inverse\" du normalize data sur le dataset \n",
    "\n",
    "TODO: lr hypertuning w/ validation ? "
   ]
  },
  {
   "cell_type": "code",
   "execution_count": 51,
   "id": "activated-yukon",
   "metadata": {
    "scrolled": true
   },
   "outputs": [
    {
     "data": {
      "image/png": "[encoded data removed]",
      "text/plain": [
       "<Figure size 432x432 with 1 Axes>"
      ]
     },
     "metadata": {
      "needs_background": "light"
     },
     "output_type": "display_data"
    },
    {
     "name": "stdout",
     "output_type": "stream",
     "text": [
      "8\n",
      "epoch 0, Loss 357.28380444956554\n",
      "epoch 1, Loss 0.5275415033576617\n",
      "epoch 2, Loss 0.42022821294116336\n",
      "epoch 3, Loss 0.33905795873112493\n",
      "epoch 4, Loss 0.2810191629980031\n",
      "epoch 5, Loss 0.22458009390860462\n",
      "epoch 6, Loss 0.1994921704459748\n",
      "epoch 7, Loss 0.18570372129000917\n",
      "epoch 8, Loss 0.176245163371251\n",
      "epoch 9, Loss 0.16898560540596258\n",
      "epoch 10, Loss 0.1627970333596685\n",
      "epoch 11, Loss 0.15767233971929817\n",
      "epoch 12, Loss 0.15306305696816214\n",
      "epoch 13, Loss 0.1487608517873768\n",
      "epoch 14, Loss 0.14491277683929218\n",
      "epoch 15, Loss 0.14145962614981972\n",
      "epoch 16, Loss 0.13848714929581882\n",
      "epoch 17, Loss 0.13565846357984052\n",
      "epoch 18, Loss 0.13296305935801628\n",
      "epoch 19, Loss 0.13043707617278846\n",
      "epoch 20, Loss 0.12813754878807118\n",
      "epoch 21, Loss 0.1260830911485209\n",
      "epoch 22, Loss 0.12410240436446077\n",
      "epoch 23, Loss 0.12227732247266937\n",
      "epoch 24, Loss 0.12049268909224875\n",
      "epoch 25, Loss 0.11885634884362924\n",
      "epoch 26, Loss 0.11718405624906592\n",
      "epoch 27, Loss 0.11564297973626697\n",
      "epoch 28, Loss 0.11419600797965249\n",
      "epoch 29, Loss 0.1127244816924711\n",
      "epoch 30, Loss 0.1115086705845431\n",
      "epoch 31, Loss 0.11025933750437207\n",
      "epoch 32, Loss 0.10900045771165127\n",
      "epoch 33, Loss 0.1079926519891784\n",
      "epoch 34, Loss 0.10691860773205496\n",
      "epoch 35, Loss 0.10590489605331448\n",
      "epoch 36, Loss 0.10494971686320542\n",
      "epoch 37, Loss 0.10397844074508304\n",
      "epoch 38, Loss 0.1029996499173028\n",
      "epoch 39, Loss 0.10209306744648723\n",
      "epoch 40, Loss 0.10117201855301983\n",
      "epoch 41, Loss 0.10027124412375463\n",
      "epoch 42, Loss 0.0993465507718053\n",
      "epoch 43, Loss 0.09858466816210609\n",
      "epoch 44, Loss 0.09780089554645068\n",
      "epoch 45, Loss 0.09689817471053674\n",
      "epoch 46, Loss 0.0961159802316672\n",
      "epoch 47, Loss 0.09534184794078439\n",
      "epoch 48, Loss 0.09467224208489455\n",
      "epoch 49, Loss 0.09397041968617863\n",
      "epoch 50, Loss 0.0932918543162787\n",
      "epoch 51, Loss 0.09265430776745741\n",
      "epoch 52, Loss 0.09209422969790847\n",
      "epoch 53, Loss 0.0914476861598055\n",
      "epoch 54, Loss 0.09083370752966212\n",
      "epoch 55, Loss 0.09032164809055097\n",
      "epoch 56, Loss 0.0897004755563843\n",
      "epoch 57, Loss 0.08908865336234172\n",
      "epoch 58, Loss 0.08853292364242299\n",
      "epoch 59, Loss 0.08797355494952458\n",
      "epoch 60, Loss 0.08738199748435344\n",
      "epoch 61, Loss 0.08691377120179108\n",
      "epoch 62, Loss 0.08650930997132542\n",
      "epoch 63, Loss 0.08604411416482685\n",
      "epoch 64, Loss 0.08559575601817669\n",
      "epoch 65, Loss 0.08511906926545384\n",
      "epoch 66, Loss 0.08474439546360668\n",
      "epoch 67, Loss 0.0842548113585629\n",
      "epoch 68, Loss 0.08384474054939778\n",
      "epoch 69, Loss 0.08346090003061477\n",
      "epoch 70, Loss 0.08314042024691524\n",
      "epoch 71, Loss 0.08280045434440503\n",
      "epoch 72, Loss 0.08241953947599584\n",
      "epoch 73, Loss 0.08209566820362965\n",
      "epoch 74, Loss 0.08179940987071098\n",
      "epoch 75, Loss 0.08146428811252743\n",
      "epoch 76, Loss 0.0812073247209685\n",
      "epoch 77, Loss 0.08089228576590361\n",
      "epoch 78, Loss 0.08061252292813213\n",
      "epoch 79, Loss 0.08036342500046326\n",
      "epoch 80, Loss 0.08005940228441849\n",
      "epoch 81, Loss 0.07976278440825\n",
      "epoch 82, Loss 0.07950609394915133\n",
      "epoch 83, Loss 0.0793103148756495\n",
      "epoch 84, Loss 0.0790210429528677\n",
      "epoch 85, Loss 0.07876105240833613\n",
      "epoch 86, Loss 0.07846897996422152\n",
      "epoch 87, Loss 0.07825106882348495\n",
      "epoch 88, Loss 0.07808196183951131\n",
      "epoch 89, Loss 0.07777695099152925\n",
      "epoch 90, Loss 0.07757054186567712\n",
      "epoch 91, Loss 0.07729449686296803\n",
      "epoch 92, Loss 0.07709040763461618\n",
      "epoch 93, Loss 0.0769104221535788\n",
      "epoch 94, Loss 0.07665796725826146\n",
      "epoch 95, Loss 0.07640931719824443\n",
      "epoch 96, Loss 0.07620084944698982\n",
      "epoch 97, Loss 0.07595412939104682\n",
      "epoch 98, Loss 0.07576201195262487\n",
      "epoch 99, Loss 0.07561122598991454\n"
     ]
    }
   ],
   "source": [
    "input, target = generate_disc_dataset(2000)\n",
    "train_input, train_target, test_input, test_target = split_dataset(input, target, 0.5)\n",
    "train_input, test_input = normalize_data(train_input, test_input)\n",
    "plot_from_input(train_input, train_target)\n",
    "# Pas sûr si on doit faire une activation fonction à la fin\n",
    "model = Sequential([Linear(2, 25), ReLU(), Linear(25, 25), ReLU(), Linear(25, 25), ReLU(), Linear(25, 1)])\n",
    "\n",
    "model, loss = train(model, train_input, train_target, LossMSE())"
   ]
  },
  {
   "cell_type": "code",
   "execution_count": 52,
   "id": "forward-canadian",
   "metadata": {},
   "outputs": [
    {
     "data": {
      "image/png": "[encoded data removed]",
      "text/plain": [
       "<Figure size 432x432 with 1 Axes>"
      ]
     },
     "metadata": {
      "needs_background": "light"
     },
     "output_type": "display_data"
    },
    {
     "name": "stdout",
     "output_type": "stream",
     "text": [
      "tensor([908]) 1000 tensor([90.8000])\n"
     ]
    }
   ],
   "source": [
    "accuracy_sgd_mse = test(model, train_input, train_target)"
   ]
  },
  {
   "cell_type": "code",
   "execution_count": null,
   "id": "e1680e93",
   "metadata": {
    "scrolled": true
   },
   "outputs": [
    {
     "data": {
      "image/png": "[encoded data removed]",
      "text/plain": [
       "<Figure size 432x432 with 1 Axes>"
      ]
     },
     "metadata": {
      "needs_background": "light"
     },
     "output_type": "display_data"
    },
    {
     "name": "stdout",
     "output_type": "stream",
     "text": [
      "epoch 0, Loss 89300.5597778811\n",
      "epoch 1, Loss 13937.709399799403\n",
      "epoch 2, Loss 7169.064622955089\n",
      "epoch 3, Loss 1159.0259843034698\n",
      "epoch 4, Loss 2084.776090505343\n",
      "epoch 5, Loss 666.5720213429927\n",
      "epoch 6, Loss 936.2802158192719\n",
      "epoch 7, Loss 459.2475697533564\n",
      "epoch 8, Loss 379.52019794467765\n",
      "epoch 9, Loss 225.757217037366\n",
      "epoch 10, Loss 200.69311111303682\n",
      "epoch 11, Loss 260.1783323807804\n",
      "epoch 12, Loss 137.62511195726\n",
      "epoch 13, Loss 84.7580342730672\n",
      "epoch 14, Loss 126.22842078383701\n",
      "epoch 15, Loss 274.8594072993419\n",
      "epoch 16, Loss 272.6764893041878\n",
      "epoch 17, Loss 271.9629697565797\n",
      "epoch 18, Loss 271.49009499998647\n",
      "epoch 19, Loss 271.0550561246346\n",
      "epoch 20, Loss 270.5492085334845\n",
      "epoch 21, Loss 269.9408142508473\n",
      "epoch 22, Loss 269.1993678486906\n",
      "epoch 23, Loss 268.32083786837757\n",
      "epoch 24, Loss 267.4362276867032\n",
      "epoch 25, Loss 266.84179784730077\n",
      "epoch 26, Loss 266.46991592273116\n",
      "epoch 27, Loss 266.1021537296474\n",
      "epoch 28, Loss 265.7047171574086\n",
      "epoch 29, Loss 265.27390926517546\n",
      "epoch 30, Loss 264.80462381988764\n",
      "epoch 31, Loss 264.2901531122625\n",
      "epoch 32, Loss 263.72196190431714\n",
      "epoch 33, Loss 263.0904073342681\n",
      "epoch 34, Loss 262.38986814394593\n",
      "epoch 35, Loss 261.64349691197276\n",
      "epoch 36, Loss 260.9869022667408\n",
      "epoch 37, Loss 260.67321775853634\n",
      "epoch 38, Loss 260.58668737113476\n",
      "epoch 39, Loss 260.50465631484985\n",
      "epoch 40, Loss 260.4133075773716\n",
      "epoch 41, Loss 260.3166092559695\n",
      "epoch 42, Loss 260.2158830463886\n",
      "epoch 43, Loss 260.1114545762539\n",
      "epoch 44, Loss 260.00324903428555\n",
      "epoch 45, Loss 259.89107497036457\n",
      "epoch 46, Loss 259.7746333181858\n",
      "epoch 47, Loss 259.6535527333617\n",
      "epoch 48, Loss 259.52741710841656\n",
      "epoch 49, Loss 259.39574655890465\n",
      "epoch 50, Loss 259.2580263540149\n",
      "epoch 51, Loss 259.11359165608883\n",
      "epoch 52, Loss 258.96173399686813\n",
      "epoch 53, Loss 258.80157324671745\n",
      "epoch 54, Loss 258.63209153711796\n",
      "epoch 55, Loss 258.4520791992545\n",
      "epoch 56, Loss 258.2600272446871\n",
      "epoch 57, Loss 258.05412961542606\n",
      "epoch 58, Loss 257.8321033343673\n",
      "epoch 59, Loss 257.5910540148616\n",
      "epoch 60, Loss 257.3272423893213\n",
      "epoch 61, Loss 257.0357609242201\n",
      "epoch 62, Loss 256.7099438011646\n",
      "epoch 63, Loss 256.3406445980072\n",
      "epoch 64, Loss 255.91513565182686\n",
      "epoch 65, Loss 255.4164404720068\n",
      "epoch 66, Loss 254.8277007341385\n",
      "epoch 67, Loss 254.16978387534618\n",
      "epoch 68, Loss 253.64709381759167\n",
      "epoch 69, Loss 253.50531558692455\n",
      "epoch 70, Loss 253.50305911898613\n",
      "epoch 71, Loss 253.50350159406662\n",
      "epoch 72, Loss 253.50366508960724\n",
      "epoch 73, Loss 253.50372321903706\n",
      "epoch 74, Loss 253.50374315679073\n",
      "epoch 75, Loss 253.5037488490343\n",
      "epoch 76, Loss 253.5037524998188\n",
      "epoch 77, Loss 253.50375500321388\n",
      "epoch 78, Loss 253.50375489890575\n",
      "epoch 79, Loss 253.50375489890575\n",
      "epoch 80, Loss 253.50375489890575\n",
      "epoch 81, Loss 253.50375489890575\n",
      "epoch 82, Loss 253.50375489890575\n",
      "epoch 83, Loss 253.50375489890575\n",
      "epoch 84, Loss 253.50375489890575\n",
      "epoch 85, Loss 253.50375489890575\n"
     ]
    }
   ],
   "source": [
    "input_adam, target_adam = generate_disc_dataset(2000)\n",
    "train_input_adam, train_target_adam, test_input_adam, test_target_adam = split_dataset(input_adam, target_adam, 0.5)\n",
    "train_input_adam, test_input_adam = normalize_data(train_input_adam, test_input_adam)\n",
    "plot_from_input(train_input_adam, train_target_adam)\n",
    "# Pas sûr si on doit faire une activation fonction à la fin\n",
    "model_adam = Sequential([Linear(2, 25), ReLU(), Linear(25, 25), ReLU(), Linear(25, 25), ReLU(), Linear(25, 1)])\n",
    "\n",
    "model_adam, loss_adam = train_adam(model_adam, train_input_adam, train_target_adam, LossMSE(), learning_rate=0.01, nb_epochs=500)"
   ]
  },
  {
   "cell_type": "code",
   "execution_count": null,
   "id": "engaged-earthquake",
   "metadata": {},
   "outputs": [],
   "source": [
    "accuracy_adam_mse = test(model_adam, test_input_adam, test_target_adam)"
   ]
  },
  {
   "cell_type": "code",
   "execution_count": null,
   "id": "announced-textbook",
   "metadata": {},
   "outputs": [],
   "source": [
    "input_BCE, target_BCE = generate_disc_dataset(2000)\n",
    "train_input_BCE, train_target_BCE, test_input_BCE, test_target_BCE = split_dataset(input_BCE, target_BCE, 0.5)\n",
    "train_input_BCE, test_input_BCE = normalize_data(train_input_BCE, test_input_BCE)\n",
    "plot_from_input(train_input_BCE, train_target_BCE)\n",
    "# Pas sûr si on doit faire une activation fonction à la fin\n",
    "model_BCE = Sequential([Linear(2, 25), ReLU(), Linear(25, 25), ReLU(), Linear(25, 25), ReLU(), Linear(25, 1), Sigmoid()])\n",
    "\n",
    "model_BCE, loss_BCE = train(model_BCE, train_input_BCE, train_target_BCE, LossBCE())"
   ]
  },
  {
   "cell_type": "code",
   "execution_count": null,
   "id": "disabled-impression",
   "metadata": {},
   "outputs": [],
   "source": [
    "accuracy_sgd_bce = test(model_BCE, test_input_BCE, test_target_BCE)"
   ]
  },
  {
   "cell_type": "code",
   "execution_count": null,
   "id": "conventional-oliver",
   "metadata": {},
   "outputs": [],
   "source": [
    "input_adam_BCE, target_adam_BCE = generate_disc_dataset(2000)\n",
    "train_input_adam_BCE, train_target_adam_BCE, test_input_adam_BCE, test_target_adam_BCE = split_dataset(input_adam_BCE, target_adam_BCE, 0.5)\n",
    "train_input_adam_BCE, test_input_adam_BCE = normalize_data(train_input_adam_BCE, test_input_adam_BCE)\n",
    "plot_from_input(train_input_adam_BCE, train_target_adam_BCE)\n",
    "# Pas sûr si on doit faire une activation fonction à la fin\n",
    "model_adam_BCE = Sequential([Linear(2, 25), ReLU(), Linear(25, 25), ReLU(), Linear(25, 25), ReLU(), Linear(25, 1), Sigmoid()])\n",
    "\n",
    "model_adam_BCE, loss_adam_BCE = train_adam(model_adam_BCE, train_input_adam_BCE, train_target_adam_BCE, LossBCE(), learning_rate=0.01, nb_epochs=500)"
   ]
  },
  {
   "cell_type": "code",
   "execution_count": null,
   "id": "wooden-danger",
   "metadata": {},
   "outputs": [],
   "source": [
    "accuracy_adam_bce = test(model_adam_BCE, model_adam_BCE, model_adam_BCE)"
   ]
  },
  {
   "cell_type": "code",
   "execution_count": null,
   "id": "fitted-pastor",
   "metadata": {},
   "outputs": [],
   "source": []
  }
 ],
 "metadata": {
  "kernelspec": {
   "display_name": "Python 3",
   "language": "python",
   "name": "python3"
  },
  "language_info": {
   "codemirror_mode": {
    "name": "ipython",
    "version": 3
   },
   "file_extension": ".py",
   "mimetype": "text/x-python",
   "name": "python",
   "nbconvert_exporter": "python",
   "pygments_lexer": "ipython3",
   "version": "3.8.5"
  }
 },
 "nbformat": 4,
 "nbformat_minor": 5
}
